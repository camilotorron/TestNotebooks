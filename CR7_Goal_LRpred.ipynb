{
  "nbformat": 4,
  "nbformat_minor": 0,
  "metadata": {
    "colab": {
      "name": "CR7_Goal_LRpred.ipynb",
      "provenance": [],
      "collapsed_sections": [],
      "authorship_tag": "ABX9TyN8CS2FoJ4mORdt75E5/yRg",
      "include_colab_link": true
    },
    "kernelspec": {
      "name": "python3",
      "display_name": "Python 3"
    },
    "language_info": {
      "name": "python"
    }
  },
  "cells": [
    {
      "cell_type": "markdown",
      "metadata": {
        "id": "view-in-github",
        "colab_type": "text"
      },
      "source": [
        "<a href=\"https://colab.research.google.com/github/camilotorron/TestNotebooks/blob/main/CR7_Goal_LRpred.ipynb\" target=\"_parent\"><img src=\"https://colab.research.google.com/assets/colab-badge.svg\" alt=\"Open In Colab\"/></a>"
      ]
    },
    {
      "cell_type": "code",
      "execution_count": 120,
      "metadata": {
        "id": "zUKF1uBG45GP"
      },
      "outputs": [],
      "source": [
        "import pandas as pd\n",
        "pd.set_option('display.max_rows', None)"
      ]
    },
    {
      "cell_type": "code",
      "source": [
        "data = pd.read_csv('https://raw.githubusercontent.com/paramitadas1/Predict-goal-or-miss--Chritiano-Ronaldo/main/train.csv')\n",
        "data.shape"
      ],
      "metadata": {
        "colab": {
          "base_uri": "https://localhost:8080/"
        },
        "id": "sJ-rD0pS47oF",
        "outputId": "d0ae4141-4368-48ea-deb4-b3ff0c010051"
      },
      "execution_count": 121,
      "outputs": [
        {
          "output_type": "execute_result",
          "data": {
            "text/plain": [
              "(20764, 27)"
            ]
          },
          "metadata": {},
          "execution_count": 121
        }
      ]
    },
    {
      "cell_type": "code",
      "source": [
        "data.head()"
      ],
      "metadata": {
        "colab": {
          "base_uri": "https://localhost:8080/",
          "height": 368
        },
        "id": "X1MpHCVq5Dco",
        "outputId": "cbb0ce13-9d91-4829-af4e-8d80db581baa"
      },
      "execution_count": 122,
      "outputs": [
        {
          "output_type": "execute_result",
          "data": {
            "text/plain": [
              "   is_goal  match_event_id  location_x  location_y  remaining_min  \\\n",
              "0        0             NaN       -49.0         NaN            7.0   \n",
              "1        0           505.0       -59.0       191.0            1.0   \n",
              "2        1           309.0         0.0         0.0            2.0   \n",
              "3        0           106.0         6.0       242.0            0.0   \n",
              "4        0           284.0      -120.0        82.0            9.0   \n",
              "\n",
              "   power_of_shot1  knockout_match2 game_season  remaining_sec1  \\\n",
              "0             3.0              0.0     2014-15            14.0   \n",
              "1             4.0              0.0     2002-03             9.0   \n",
              "2             3.0              NaN     1997-98            58.0   \n",
              "3             1.0              1.0     2007-08            21.0   \n",
              "4             3.0              1.0     2003-04            36.0   \n",
              "\n",
              "   distance_of_shot1  ...                 lat_lng type_of_shot  \\\n",
              "0               39.0  ...   46.667324, -94.419250     shot - 3   \n",
              "1               39.0  ...  33.552026, -112.071667    shot - 48   \n",
              "2               20.0  ...   41.845137, -87.660450    shot - 39   \n",
              "3               44.0  ...   42.330507, -71.074655    shot - 50   \n",
              "4               34.0  ...                     NaN     shot - 3   \n",
              "\n",
              "  type_of_combined_shot  match_id     team_id remaining_min.1  power_of_shot  \\\n",
              "0              shot - 3  21400351  1610612747           38.20            3.0   \n",
              "1                   NaN  20200471  1610612747           87.64            4.0   \n",
              "2                   NaN  29700335  1610612747           74.64            3.0   \n",
              "3                   NaN  40700406  1610612747            0.00            1.0   \n",
              "4              shot - 3  40300316  1610612747            9.00            NaN   \n",
              "\n",
              "  knockout_match1 remaining_sec2 distance_of_shot2  \n",
              "0             0.0           29.2            38.400  \n",
              "1             NaN            NaN            39.000  \n",
              "2             NaN            NaN            20.000  \n",
              "3             1.0           21.0           111.728  \n",
              "4             1.0           36.0            34.000  \n",
              "\n",
              "[5 rows x 27 columns]"
            ],
            "text/html": [
              "\n",
              "  <div id=\"df-339c37d0-23e8-4b5c-a28d-a2a28da84c20\">\n",
              "    <div class=\"colab-df-container\">\n",
              "      <div>\n",
              "<style scoped>\n",
              "    .dataframe tbody tr th:only-of-type {\n",
              "        vertical-align: middle;\n",
              "    }\n",
              "\n",
              "    .dataframe tbody tr th {\n",
              "        vertical-align: top;\n",
              "    }\n",
              "\n",
              "    .dataframe thead th {\n",
              "        text-align: right;\n",
              "    }\n",
              "</style>\n",
              "<table border=\"1\" class=\"dataframe\">\n",
              "  <thead>\n",
              "    <tr style=\"text-align: right;\">\n",
              "      <th></th>\n",
              "      <th>is_goal</th>\n",
              "      <th>match_event_id</th>\n",
              "      <th>location_x</th>\n",
              "      <th>location_y</th>\n",
              "      <th>remaining_min</th>\n",
              "      <th>power_of_shot1</th>\n",
              "      <th>knockout_match2</th>\n",
              "      <th>game_season</th>\n",
              "      <th>remaining_sec1</th>\n",
              "      <th>distance_of_shot1</th>\n",
              "      <th>...</th>\n",
              "      <th>lat_lng</th>\n",
              "      <th>type_of_shot</th>\n",
              "      <th>type_of_combined_shot</th>\n",
              "      <th>match_id</th>\n",
              "      <th>team_id</th>\n",
              "      <th>remaining_min.1</th>\n",
              "      <th>power_of_shot</th>\n",
              "      <th>knockout_match1</th>\n",
              "      <th>remaining_sec2</th>\n",
              "      <th>distance_of_shot2</th>\n",
              "    </tr>\n",
              "  </thead>\n",
              "  <tbody>\n",
              "    <tr>\n",
              "      <th>0</th>\n",
              "      <td>0</td>\n",
              "      <td>NaN</td>\n",
              "      <td>-49.0</td>\n",
              "      <td>NaN</td>\n",
              "      <td>7.0</td>\n",
              "      <td>3.0</td>\n",
              "      <td>0.0</td>\n",
              "      <td>2014-15</td>\n",
              "      <td>14.0</td>\n",
              "      <td>39.0</td>\n",
              "      <td>...</td>\n",
              "      <td>46.667324, -94.419250</td>\n",
              "      <td>shot - 3</td>\n",
              "      <td>shot - 3</td>\n",
              "      <td>21400351</td>\n",
              "      <td>1610612747</td>\n",
              "      <td>38.20</td>\n",
              "      <td>3.0</td>\n",
              "      <td>0.0</td>\n",
              "      <td>29.2</td>\n",
              "      <td>38.400</td>\n",
              "    </tr>\n",
              "    <tr>\n",
              "      <th>1</th>\n",
              "      <td>0</td>\n",
              "      <td>505.0</td>\n",
              "      <td>-59.0</td>\n",
              "      <td>191.0</td>\n",
              "      <td>1.0</td>\n",
              "      <td>4.0</td>\n",
              "      <td>0.0</td>\n",
              "      <td>2002-03</td>\n",
              "      <td>9.0</td>\n",
              "      <td>39.0</td>\n",
              "      <td>...</td>\n",
              "      <td>33.552026, -112.071667</td>\n",
              "      <td>shot - 48</td>\n",
              "      <td>NaN</td>\n",
              "      <td>20200471</td>\n",
              "      <td>1610612747</td>\n",
              "      <td>87.64</td>\n",
              "      <td>4.0</td>\n",
              "      <td>NaN</td>\n",
              "      <td>NaN</td>\n",
              "      <td>39.000</td>\n",
              "    </tr>\n",
              "    <tr>\n",
              "      <th>2</th>\n",
              "      <td>1</td>\n",
              "      <td>309.0</td>\n",
              "      <td>0.0</td>\n",
              "      <td>0.0</td>\n",
              "      <td>2.0</td>\n",
              "      <td>3.0</td>\n",
              "      <td>NaN</td>\n",
              "      <td>1997-98</td>\n",
              "      <td>58.0</td>\n",
              "      <td>20.0</td>\n",
              "      <td>...</td>\n",
              "      <td>41.845137, -87.660450</td>\n",
              "      <td>shot - 39</td>\n",
              "      <td>NaN</td>\n",
              "      <td>29700335</td>\n",
              "      <td>1610612747</td>\n",
              "      <td>74.64</td>\n",
              "      <td>3.0</td>\n",
              "      <td>NaN</td>\n",
              "      <td>NaN</td>\n",
              "      <td>20.000</td>\n",
              "    </tr>\n",
              "    <tr>\n",
              "      <th>3</th>\n",
              "      <td>0</td>\n",
              "      <td>106.0</td>\n",
              "      <td>6.0</td>\n",
              "      <td>242.0</td>\n",
              "      <td>0.0</td>\n",
              "      <td>1.0</td>\n",
              "      <td>1.0</td>\n",
              "      <td>2007-08</td>\n",
              "      <td>21.0</td>\n",
              "      <td>44.0</td>\n",
              "      <td>...</td>\n",
              "      <td>42.330507, -71.074655</td>\n",
              "      <td>shot - 50</td>\n",
              "      <td>NaN</td>\n",
              "      <td>40700406</td>\n",
              "      <td>1610612747</td>\n",
              "      <td>0.00</td>\n",
              "      <td>1.0</td>\n",
              "      <td>1.0</td>\n",
              "      <td>21.0</td>\n",
              "      <td>111.728</td>\n",
              "    </tr>\n",
              "    <tr>\n",
              "      <th>4</th>\n",
              "      <td>0</td>\n",
              "      <td>284.0</td>\n",
              "      <td>-120.0</td>\n",
              "      <td>82.0</td>\n",
              "      <td>9.0</td>\n",
              "      <td>3.0</td>\n",
              "      <td>1.0</td>\n",
              "      <td>2003-04</td>\n",
              "      <td>36.0</td>\n",
              "      <td>34.0</td>\n",
              "      <td>...</td>\n",
              "      <td>NaN</td>\n",
              "      <td>shot - 3</td>\n",
              "      <td>shot - 3</td>\n",
              "      <td>40300316</td>\n",
              "      <td>1610612747</td>\n",
              "      <td>9.00</td>\n",
              "      <td>NaN</td>\n",
              "      <td>1.0</td>\n",
              "      <td>36.0</td>\n",
              "      <td>34.000</td>\n",
              "    </tr>\n",
              "  </tbody>\n",
              "</table>\n",
              "<p>5 rows × 27 columns</p>\n",
              "</div>\n",
              "      <button class=\"colab-df-convert\" onclick=\"convertToInteractive('df-339c37d0-23e8-4b5c-a28d-a2a28da84c20')\"\n",
              "              title=\"Convert this dataframe to an interactive table.\"\n",
              "              style=\"display:none;\">\n",
              "        \n",
              "  <svg xmlns=\"http://www.w3.org/2000/svg\" height=\"24px\"viewBox=\"0 0 24 24\"\n",
              "       width=\"24px\">\n",
              "    <path d=\"M0 0h24v24H0V0z\" fill=\"none\"/>\n",
              "    <path d=\"M18.56 5.44l.94 2.06.94-2.06 2.06-.94-2.06-.94-.94-2.06-.94 2.06-2.06.94zm-11 1L8.5 8.5l.94-2.06 2.06-.94-2.06-.94L8.5 2.5l-.94 2.06-2.06.94zm10 10l.94 2.06.94-2.06 2.06-.94-2.06-.94-.94-2.06-.94 2.06-2.06.94z\"/><path d=\"M17.41 7.96l-1.37-1.37c-.4-.4-.92-.59-1.43-.59-.52 0-1.04.2-1.43.59L10.3 9.45l-7.72 7.72c-.78.78-.78 2.05 0 2.83L4 21.41c.39.39.9.59 1.41.59.51 0 1.02-.2 1.41-.59l7.78-7.78 2.81-2.81c.8-.78.8-2.07 0-2.86zM5.41 20L4 18.59l7.72-7.72 1.47 1.35L5.41 20z\"/>\n",
              "  </svg>\n",
              "      </button>\n",
              "      \n",
              "  <style>\n",
              "    .colab-df-container {\n",
              "      display:flex;\n",
              "      flex-wrap:wrap;\n",
              "      gap: 12px;\n",
              "    }\n",
              "\n",
              "    .colab-df-convert {\n",
              "      background-color: #E8F0FE;\n",
              "      border: none;\n",
              "      border-radius: 50%;\n",
              "      cursor: pointer;\n",
              "      display: none;\n",
              "      fill: #1967D2;\n",
              "      height: 32px;\n",
              "      padding: 0 0 0 0;\n",
              "      width: 32px;\n",
              "    }\n",
              "\n",
              "    .colab-df-convert:hover {\n",
              "      background-color: #E2EBFA;\n",
              "      box-shadow: 0px 1px 2px rgba(60, 64, 67, 0.3), 0px 1px 3px 1px rgba(60, 64, 67, 0.15);\n",
              "      fill: #174EA6;\n",
              "    }\n",
              "\n",
              "    [theme=dark] .colab-df-convert {\n",
              "      background-color: #3B4455;\n",
              "      fill: #D2E3FC;\n",
              "    }\n",
              "\n",
              "    [theme=dark] .colab-df-convert:hover {\n",
              "      background-color: #434B5C;\n",
              "      box-shadow: 0px 1px 3px 1px rgba(0, 0, 0, 0.15);\n",
              "      filter: drop-shadow(0px 1px 2px rgba(0, 0, 0, 0.3));\n",
              "      fill: #FFFFFF;\n",
              "    }\n",
              "  </style>\n",
              "\n",
              "      <script>\n",
              "        const buttonEl =\n",
              "          document.querySelector('#df-339c37d0-23e8-4b5c-a28d-a2a28da84c20 button.colab-df-convert');\n",
              "        buttonEl.style.display =\n",
              "          google.colab.kernel.accessAllowed ? 'block' : 'none';\n",
              "\n",
              "        async function convertToInteractive(key) {\n",
              "          const element = document.querySelector('#df-339c37d0-23e8-4b5c-a28d-a2a28da84c20');\n",
              "          const dataTable =\n",
              "            await google.colab.kernel.invokeFunction('convertToInteractive',\n",
              "                                                     [key], {});\n",
              "          if (!dataTable) return;\n",
              "\n",
              "          const docLinkHtml = 'Like what you see? Visit the ' +\n",
              "            '<a target=\"_blank\" href=https://colab.research.google.com/notebooks/data_table.ipynb>data table notebook</a>'\n",
              "            + ' to learn more about interactive tables.';\n",
              "          element.innerHTML = '';\n",
              "          dataTable['output_type'] = 'display_data';\n",
              "          await google.colab.output.renderOutput(dataTable, element);\n",
              "          const docLink = document.createElement('div');\n",
              "          docLink.innerHTML = docLinkHtml;\n",
              "          element.appendChild(docLink);\n",
              "        }\n",
              "      </script>\n",
              "    </div>\n",
              "  </div>\n",
              "  "
            ]
          },
          "metadata": {},
          "execution_count": 122
        }
      ]
    },
    {
      "cell_type": "code",
      "source": [
        "data.isna().sum()"
      ],
      "metadata": {
        "colab": {
          "base_uri": "https://localhost:8080/"
        },
        "id": "TTvqOKyy5IbP",
        "outputId": "e389b142-9ad7-4aa6-de1b-f5a5c3a5262c"
      },
      "execution_count": 123,
      "outputs": [
        {
          "output_type": "execute_result",
          "data": {
            "text/plain": [
              "is_goal                      0\n",
              "match_event_id            1044\n",
              "location_x                 954\n",
              "location_y                1042\n",
              "remaining_min             1043\n",
              "power_of_shot1             240\n",
              "knockout_match2            266\n",
              "game_season               3919\n",
              "remaining_sec1             213\n",
              "distance_of_shot1         1069\n",
              "area_of_shot              1011\n",
              "shot_basics               1098\n",
              "range_of_shot             1084\n",
              "team_name                 1031\n",
              "date_of_game              1041\n",
              "home_away                 1019\n",
              "shot_id_number            1049\n",
              "lat_lng                   1068\n",
              "type_of_shot                 0\n",
              "type_of_combined_shot    10454\n",
              "match_id                     0\n",
              "team_id                      0\n",
              "remaining_min.1           1051\n",
              "power_of_shot             1028\n",
              "knockout_match1           1034\n",
              "remaining_sec2            1033\n",
              "distance_of_shot2         1050\n",
              "dtype: int64"
            ]
          },
          "metadata": {},
          "execution_count": 123
        }
      ]
    },
    {
      "cell_type": "code",
      "source": [
        "data.dtypes"
      ],
      "metadata": {
        "colab": {
          "base_uri": "https://localhost:8080/"
        },
        "id": "22JFSNQi5Ml0",
        "outputId": "0760b832-c255-4ca1-cfb0-e2925fb75fe2"
      },
      "execution_count": 124,
      "outputs": [
        {
          "output_type": "execute_result",
          "data": {
            "text/plain": [
              "is_goal                    int64\n",
              "match_event_id           float64\n",
              "location_x               float64\n",
              "location_y               float64\n",
              "remaining_min            float64\n",
              "power_of_shot1           float64\n",
              "knockout_match2          float64\n",
              "game_season               object\n",
              "remaining_sec1           float64\n",
              "distance_of_shot1        float64\n",
              "area_of_shot              object\n",
              "shot_basics               object\n",
              "range_of_shot             object\n",
              "team_name                 object\n",
              "date_of_game              object\n",
              "home_away                 object\n",
              "shot_id_number           float64\n",
              "lat_lng                   object\n",
              "type_of_shot              object\n",
              "type_of_combined_shot     object\n",
              "match_id                   int64\n",
              "team_id                    int64\n",
              "remaining_min.1          float64\n",
              "power_of_shot            float64\n",
              "knockout_match1          float64\n",
              "remaining_sec2           float64\n",
              "distance_of_shot2        float64\n",
              "dtype: object"
            ]
          },
          "metadata": {},
          "execution_count": 124
        }
      ]
    },
    {
      "cell_type": "code",
      "source": [
        "data['is_goal'].value_counts()"
      ],
      "metadata": {
        "colab": {
          "base_uri": "https://localhost:8080/"
        },
        "id": "GBx0KEOT7nL6",
        "outputId": "e4138a49-af28-49d7-8e92-68638c91bb01"
      },
      "execution_count": 125,
      "outputs": [
        {
          "output_type": "execute_result",
          "data": {
            "text/plain": [
              "0    11517\n",
              "1     9247\n",
              "Name: is_goal, dtype: int64"
            ]
          },
          "metadata": {},
          "execution_count": 125
        }
      ]
    },
    {
      "cell_type": "code",
      "source": [
        "import seaborn as sns\n",
        "\n",
        "data.hist(figsize = (20,12))"
      ],
      "metadata": {
        "colab": {
          "base_uri": "https://localhost:8080/",
          "height": 1000
        },
        "id": "0al-JRe98DCR",
        "outputId": "a0b84209-f6a3-4f99-993c-6b8072dc1b45"
      },
      "execution_count": 126,
      "outputs": [
        {
          "output_type": "execute_result",
          "data": {
            "text/plain": [
              "array([[<matplotlib.axes._subplots.AxesSubplot object at 0x7fc284ec0810>,\n",
              "        <matplotlib.axes._subplots.AxesSubplot object at 0x7fc284ed8a50>,\n",
              "        <matplotlib.axes._subplots.AxesSubplot object at 0x7fc284e87f10>,\n",
              "        <matplotlib.axes._subplots.AxesSubplot object at 0x7fc284e47450>],\n",
              "       [<matplotlib.axes._subplots.AxesSubplot object at 0x7fc284dfe950>,\n",
              "        <matplotlib.axes._subplots.AxesSubplot object at 0x7fc284db3e50>,\n",
              "        <matplotlib.axes._subplots.AxesSubplot object at 0x7fc284d763d0>,\n",
              "        <matplotlib.axes._subplots.AxesSubplot object at 0x7fc284dac810>],\n",
              "       [<matplotlib.axes._subplots.AxesSubplot object at 0x7fc284dac850>,\n",
              "        <matplotlib.axes._subplots.AxesSubplot object at 0x7fc284d64e50>,\n",
              "        <matplotlib.axes._subplots.AxesSubplot object at 0x7fc284cde790>,\n",
              "        <matplotlib.axes._subplots.AxesSubplot object at 0x7fc284c95c90>],\n",
              "       [<matplotlib.axes._subplots.AxesSubplot object at 0x7fc284c591d0>,\n",
              "        <matplotlib.axes._subplots.AxesSubplot object at 0x7fc284c0d6d0>,\n",
              "        <matplotlib.axes._subplots.AxesSubplot object at 0x7fc284bc9d90>,\n",
              "        <matplotlib.axes._subplots.AxesSubplot object at 0x7fc284b78c10>],\n",
              "       [<matplotlib.axes._subplots.AxesSubplot object at 0x7fc284b47590>,\n",
              "        <matplotlib.axes._subplots.AxesSubplot object at 0x7fc284af8ad0>,\n",
              "        <matplotlib.axes._subplots.AxesSubplot object at 0x7fc284b25ad0>,\n",
              "        <matplotlib.axes._subplots.AxesSubplot object at 0x7fc284a71510>]],\n",
              "      dtype=object)"
            ]
          },
          "metadata": {},
          "execution_count": 126
        },
        {
          "output_type": "display_data",
          "data": {
            "text/plain": [
              "<Figure size 1440x864 with 20 Axes>"
            ],
            "image/png": "[encoded data removed]"
          },
          "metadata": {
            "needs_background": "light"
          }
        }
      ]
    },
    {
      "cell_type": "code",
      "source": [
        "data.describe()"
      ],
      "metadata": {
        "colab": {
          "base_uri": "https://localhost:8080/",
          "height": 364
        },
        "id": "pk4b5bns8xVD",
        "outputId": "10c2de84-5c88-4bce-ec9f-b662347674e0"
      },
      "execution_count": 127,
      "outputs": [
        {
          "output_type": "execute_result",
          "data": {
            "text/plain": [
              "            is_goal  match_event_id    location_x    location_y  \\\n",
              "count  20764.000000    19720.000000  19810.000000  19722.000000   \n",
              "mean       0.445338      249.876521      7.613226     91.114948   \n",
              "std        0.497015      150.345354    110.072094     87.831362   \n",
              "min        0.000000        2.000000   -248.000000    -44.000000   \n",
              "25%        0.000000      111.000000    -67.000000      4.000000   \n",
              "50%        0.000000      254.000000      0.000000     74.000000   \n",
              "75%        1.000000      369.000000     95.000000    160.000000   \n",
              "max        1.000000      653.000000    248.000000    791.000000   \n",
              "\n",
              "       remaining_min  power_of_shot1  knockout_match2  remaining_sec1  \\\n",
              "count   19721.000000    20524.000000     20498.000000    20551.000000   \n",
              "mean        4.899194        2.523582         0.146014       28.347291   \n",
              "std         3.455363        1.153974         0.353129       17.481840   \n",
              "min         0.000000        1.000000         0.000000        0.000000   \n",
              "25%         2.000000        1.000000         0.000000       13.000000   \n",
              "50%         5.000000        3.000000         0.000000       28.000000   \n",
              "75%         8.000000        3.000000         0.000000       43.000000   \n",
              "max        11.000000        7.000000         1.000000       59.200000   \n",
              "\n",
              "       distance_of_shot1  shot_id_number      match_id       team_id  \\\n",
              "count       19695.000000    19715.000000  2.076400e+04  2.076400e+04   \n",
              "mean           33.434323    15363.881917  2.473565e+07  1.610613e+09   \n",
              "std             9.367075     8854.892935  7.736206e+06  0.000000e+00   \n",
              "min            20.000000        3.000000  2.000001e+07  1.610613e+09   \n",
              "25%            25.000000     7714.500000  2.050010e+07  1.610613e+09   \n",
              "50%            35.000000    15406.000000  2.090036e+07  1.610613e+09   \n",
              "75%            41.000000    22985.500000  2.960019e+07  1.610613e+09   \n",
              "max            99.000000    30697.000000  4.990009e+07  1.610613e+09   \n",
              "\n",
              "       remaining_min.1  power_of_shot  knockout_match1  remaining_sec2  \\\n",
              "count     19713.000000   19736.000000     19730.000000    19731.000000   \n",
              "mean         18.197720      15.814455        16.551423       38.833780   \n",
              "std          29.441788      29.441110        35.045627       29.730557   \n",
              "min           0.000000       1.000000         0.000000        0.000000   \n",
              "25%           3.000000       2.000000         0.000000       17.000000   \n",
              "50%           6.000000       3.000000         0.000000       35.000000   \n",
              "75%          11.000000       4.000000         1.000000       52.000000   \n",
              "max         128.761600     118.360000       141.352320      144.785600   \n",
              "\n",
              "       distance_of_shot2  \n",
              "count       19714.000000  \n",
              "mean           38.767763  \n",
              "std            18.728670  \n",
              "min             9.400000  \n",
              "25%            26.000000  \n",
              "50%            36.000000  \n",
              "75%            44.000000  \n",
              "max           115.728000  "
            ],
            "text/html": [
              "\n",
              "  <div id=\"df-cb74bd80-f4e2-4592-8937-901df9bd07d3\">\n",
              "    <div class=\"colab-df-container\">\n",
              "      <div>\n",
              "<style scoped>\n",
              "    .dataframe tbody tr th:only-of-type {\n",
              "        vertical-align: middle;\n",
              "    }\n",
              "\n",
              "    .dataframe tbody tr th {\n",
              "        vertical-align: top;\n",
              "    }\n",
              "\n",
              "    .dataframe thead th {\n",
              "        text-align: right;\n",
              "    }\n",
              "</style>\n",
              "<table border=\"1\" class=\"dataframe\">\n",
              "  <thead>\n",
              "    <tr style=\"text-align: right;\">\n",
              "      <th></th>\n",
              "      <th>is_goal</th>\n",
              "      <th>match_event_id</th>\n",
              "      <th>location_x</th>\n",
              "      <th>location_y</th>\n",
              "      <th>remaining_min</th>\n",
              "      <th>power_of_shot1</th>\n",
              "      <th>knockout_match2</th>\n",
              "      <th>remaining_sec1</th>\n",
              "      <th>distance_of_shot1</th>\n",
              "      <th>shot_id_number</th>\n",
              "      <th>match_id</th>\n",
              "      <th>team_id</th>\n",
              "      <th>remaining_min.1</th>\n",
              "      <th>power_of_shot</th>\n",
              "      <th>knockout_match1</th>\n",
              "      <th>remaining_sec2</th>\n",
              "      <th>distance_of_shot2</th>\n",
              "    </tr>\n",
              "  </thead>\n",
              "  <tbody>\n",
              "    <tr>\n",
              "      <th>count</th>\n",
              "      <td>20764.000000</td>\n",
              "      <td>19720.000000</td>\n",
              "      <td>19810.000000</td>\n",
              "      <td>19722.000000</td>\n",
              "      <td>19721.000000</td>\n",
              "      <td>20524.000000</td>\n",
              "      <td>20498.000000</td>\n",
              "      <td>20551.000000</td>\n",
              "      <td>19695.000000</td>\n",
              "      <td>19715.000000</td>\n",
              "      <td>2.076400e+04</td>\n",
              "      <td>2.076400e+04</td>\n",
              "      <td>19713.000000</td>\n",
              "      <td>19736.000000</td>\n",
              "      <td>19730.000000</td>\n",
              "      <td>19731.000000</td>\n",
              "      <td>19714.000000</td>\n",
              "    </tr>\n",
              "    <tr>\n",
              "      <th>mean</th>\n",
              "      <td>0.445338</td>\n",
              "      <td>249.876521</td>\n",
              "      <td>7.613226</td>\n",
              "      <td>91.114948</td>\n",
              "      <td>4.899194</td>\n",
              "      <td>2.523582</td>\n",
              "      <td>0.146014</td>\n",
              "      <td>28.347291</td>\n",
              "      <td>33.434323</td>\n",
              "      <td>15363.881917</td>\n",
              "      <td>2.473565e+07</td>\n",
              "      <td>1.610613e+09</td>\n",
              "      <td>18.197720</td>\n",
              "      <td>15.814455</td>\n",
              "      <td>16.551423</td>\n",
              "      <td>38.833780</td>\n",
              "      <td>38.767763</td>\n",
              "    </tr>\n",
              "    <tr>\n",
              "      <th>std</th>\n",
              "      <td>0.497015</td>\n",
              "      <td>150.345354</td>\n",
              "      <td>110.072094</td>\n",
              "      <td>87.831362</td>\n",
              "      <td>3.455363</td>\n",
              "      <td>1.153974</td>\n",
              "      <td>0.353129</td>\n",
              "      <td>17.481840</td>\n",
              "      <td>9.367075</td>\n",
              "      <td>8854.892935</td>\n",
              "      <td>7.736206e+06</td>\n",
              "      <td>0.000000e+00</td>\n",
              "      <td>29.441788</td>\n",
              "      <td>29.441110</td>\n",
              "      <td>35.045627</td>\n",
              "      <td>29.730557</td>\n",
              "      <td>18.728670</td>\n",
              "    </tr>\n",
              "    <tr>\n",
              "      <th>min</th>\n",
              "      <td>0.000000</td>\n",
              "      <td>2.000000</td>\n",
              "      <td>-248.000000</td>\n",
              "      <td>-44.000000</td>\n",
              "      <td>0.000000</td>\n",
              "      <td>1.000000</td>\n",
              "      <td>0.000000</td>\n",
              "      <td>0.000000</td>\n",
              "      <td>20.000000</td>\n",
              "      <td>3.000000</td>\n",
              "      <td>2.000001e+07</td>\n",
              "      <td>1.610613e+09</td>\n",
              "      <td>0.000000</td>\n",
              "      <td>1.000000</td>\n",
              "      <td>0.000000</td>\n",
              "      <td>0.000000</td>\n",
              "      <td>9.400000</td>\n",
              "    </tr>\n",
              "    <tr>\n",
              "      <th>25%</th>\n",
              "      <td>0.000000</td>\n",
              "      <td>111.000000</td>\n",
              "      <td>-67.000000</td>\n",
              "      <td>4.000000</td>\n",
              "      <td>2.000000</td>\n",
              "      <td>1.000000</td>\n",
              "      <td>0.000000</td>\n",
              "      <td>13.000000</td>\n",
              "      <td>25.000000</td>\n",
              "      <td>7714.500000</td>\n",
              "      <td>2.050010e+07</td>\n",
              "      <td>1.610613e+09</td>\n",
              "      <td>3.000000</td>\n",
              "      <td>2.000000</td>\n",
              "      <td>0.000000</td>\n",
              "      <td>17.000000</td>\n",
              "      <td>26.000000</td>\n",
              "    </tr>\n",
              "    <tr>\n",
              "      <th>50%</th>\n",
              "      <td>0.000000</td>\n",
              "      <td>254.000000</td>\n",
              "      <td>0.000000</td>\n",
              "      <td>74.000000</td>\n",
              "      <td>5.000000</td>\n",
              "      <td>3.000000</td>\n",
              "      <td>0.000000</td>\n",
              "      <td>28.000000</td>\n",
              "      <td>35.000000</td>\n",
              "      <td>15406.000000</td>\n",
              "      <td>2.090036e+07</td>\n",
              "      <td>1.610613e+09</td>\n",
              "      <td>6.000000</td>\n",
              "      <td>3.000000</td>\n",
              "      <td>0.000000</td>\n",
              "      <td>35.000000</td>\n",
              "      <td>36.000000</td>\n",
              "    </tr>\n",
              "    <tr>\n",
              "      <th>75%</th>\n",
              "      <td>1.000000</td>\n",
              "      <td>369.000000</td>\n",
              "      <td>95.000000</td>\n",
              "      <td>160.000000</td>\n",
              "      <td>8.000000</td>\n",
              "      <td>3.000000</td>\n",
              "      <td>0.000000</td>\n",
              "      <td>43.000000</td>\n",
              "      <td>41.000000</td>\n",
              "      <td>22985.500000</td>\n",
              "      <td>2.960019e+07</td>\n",
              "      <td>1.610613e+09</td>\n",
              "      <td>11.000000</td>\n",
              "      <td>4.000000</td>\n",
              "      <td>1.000000</td>\n",
              "      <td>52.000000</td>\n",
              "      <td>44.000000</td>\n",
              "    </tr>\n",
              "    <tr>\n",
              "      <th>max</th>\n",
              "      <td>1.000000</td>\n",
              "      <td>653.000000</td>\n",
              "      <td>248.000000</td>\n",
              "      <td>791.000000</td>\n",
              "      <td>11.000000</td>\n",
              "      <td>7.000000</td>\n",
              "      <td>1.000000</td>\n",
              "      <td>59.200000</td>\n",
              "      <td>99.000000</td>\n",
              "      <td>30697.000000</td>\n",
              "      <td>4.990009e+07</td>\n",
              "      <td>1.610613e+09</td>\n",
              "      <td>128.761600</td>\n",
              "      <td>118.360000</td>\n",
              "      <td>141.352320</td>\n",
              "      <td>144.785600</td>\n",
              "      <td>115.728000</td>\n",
              "    </tr>\n",
              "  </tbody>\n",
              "</table>\n",
              "</div>\n",
              "      <button class=\"colab-df-convert\" onclick=\"convertToInteractive('df-cb74bd80-f4e2-4592-8937-901df9bd07d3')\"\n",
              "              title=\"Convert this dataframe to an interactive table.\"\n",
              "              style=\"display:none;\">\n",
              "        \n",
              "  <svg xmlns=\"http://www.w3.org/2000/svg\" height=\"24px\"viewBox=\"0 0 24 24\"\n",
              "       width=\"24px\">\n",
              "    <path d=\"M0 0h24v24H0V0z\" fill=\"none\"/>\n",
              "    <path d=\"M18.56 5.44l.94 2.06.94-2.06 2.06-.94-2.06-.94-.94-2.06-.94 2.06-2.06.94zm-11 1L8.5 8.5l.94-2.06 2.06-.94-2.06-.94L8.5 2.5l-.94 2.06-2.06.94zm10 10l.94 2.06.94-2.06 2.06-.94-2.06-.94-.94-2.06-.94 2.06-2.06.94z\"/><path d=\"M17.41 7.96l-1.37-1.37c-.4-.4-.92-.59-1.43-.59-.52 0-1.04.2-1.43.59L10.3 9.45l-7.72 7.72c-.78.78-.78 2.05 0 2.83L4 21.41c.39.39.9.59 1.41.59.51 0 1.02-.2 1.41-.59l7.78-7.78 2.81-2.81c.8-.78.8-2.07 0-2.86zM5.41 20L4 18.59l7.72-7.72 1.47 1.35L5.41 20z\"/>\n",
              "  </svg>\n",
              "      </button>\n",
              "      \n",
              "  <style>\n",
              "    .colab-df-container {\n",
              "      display:flex;\n",
              "      flex-wrap:wrap;\n",
              "      gap: 12px;\n",
              "    }\n",
              "\n",
              "    .colab-df-convert {\n",
              "      background-color: #E8F0FE;\n",
              "      border: none;\n",
              "      border-radius: 50%;\n",
              "      cursor: pointer;\n",
              "      display: none;\n",
              "      fill: #1967D2;\n",
              "      height: 32px;\n",
              "      padding: 0 0 0 0;\n",
              "      width: 32px;\n",
              "    }\n",
              "\n",
              "    .colab-df-convert:hover {\n",
              "      background-color: #E2EBFA;\n",
              "      box-shadow: 0px 1px 2px rgba(60, 64, 67, 0.3), 0px 1px 3px 1px rgba(60, 64, 67, 0.15);\n",
              "      fill: #174EA6;\n",
              "    }\n",
              "\n",
              "    [theme=dark] .colab-df-convert {\n",
              "      background-color: #3B4455;\n",
              "      fill: #D2E3FC;\n",
              "    }\n",
              "\n",
              "    [theme=dark] .colab-df-convert:hover {\n",
              "      background-color: #434B5C;\n",
              "      box-shadow: 0px 1px 3px 1px rgba(0, 0, 0, 0.15);\n",
              "      filter: drop-shadow(0px 1px 2px rgba(0, 0, 0, 0.3));\n",
              "      fill: #FFFFFF;\n",
              "    }\n",
              "  </style>\n",
              "\n",
              "      <script>\n",
              "        const buttonEl =\n",
              "          document.querySelector('#df-cb74bd80-f4e2-4592-8937-901df9bd07d3 button.colab-df-convert');\n",
              "        buttonEl.style.display =\n",
              "          google.colab.kernel.accessAllowed ? 'block' : 'none';\n",
              "\n",
              "        async function convertToInteractive(key) {\n",
              "          const element = document.querySelector('#df-cb74bd80-f4e2-4592-8937-901df9bd07d3');\n",
              "          const dataTable =\n",
              "            await google.colab.kernel.invokeFunction('convertToInteractive',\n",
              "                                                     [key], {});\n",
              "          if (!dataTable) return;\n",
              "\n",
              "          const docLinkHtml = 'Like what you see? Visit the ' +\n",
              "            '<a target=\"_blank\" href=https://colab.research.google.com/notebooks/data_table.ipynb>data table notebook</a>'\n",
              "            + ' to learn more about interactive tables.';\n",
              "          element.innerHTML = '';\n",
              "          dataTable['output_type'] = 'display_data';\n",
              "          await google.colab.output.renderOutput(dataTable, element);\n",
              "          const docLink = document.createElement('div');\n",
              "          docLink.innerHTML = docLinkHtml;\n",
              "          element.appendChild(docLink);\n",
              "        }\n",
              "      </script>\n",
              "    </div>\n",
              "  </div>\n",
              "  "
            ]
          },
          "metadata": {},
          "execution_count": 127
        }
      ]
    },
    {
      "cell_type": "code",
      "source": [
        "data.columns"
      ],
      "metadata": {
        "colab": {
          "base_uri": "https://localhost:8080/"
        },
        "id": "1IyA0pS09M7R",
        "outputId": "b5e7ecbb-aef5-4e0d-a5f3-da00a93c5270"
      },
      "execution_count": 128,
      "outputs": [
        {
          "output_type": "execute_result",
          "data": {
            "text/plain": [
              "Index(['is_goal', 'match_event_id', 'location_x', 'location_y',\n",
              "       'remaining_min', 'power_of_shot1', 'knockout_match2', 'game_season',\n",
              "       'remaining_sec1', 'distance_of_shot1', 'area_of_shot', 'shot_basics',\n",
              "       'range_of_shot', 'team_name', 'date_of_game', 'home_away',\n",
              "       'shot_id_number', 'lat_lng', 'type_of_shot', 'type_of_combined_shot',\n",
              "       'match_id', 'team_id', 'remaining_min.1', 'power_of_shot',\n",
              "       'knockout_match1', 'remaining_sec2', 'distance_of_shot2'],\n",
              "      dtype='object')"
            ]
          },
          "metadata": {},
          "execution_count": 128
        }
      ]
    },
    {
      "cell_type": "code",
      "source": [
        "df = data[['is_goal', 'location_x', 'location_y',\n",
        "       'power_of_shot1', 'distance_of_shot1', 'area_of_shot', 'home_away',\n",
        "       'type_of_shot']]"
      ],
      "metadata": {
        "id": "ObvGyKl99eYP"
      },
      "execution_count": 129,
      "outputs": []
    },
    {
      "cell_type": "code",
      "source": [
        "df.hist(figsize = (20,12))"
      ],
      "metadata": {
        "colab": {
          "base_uri": "https://localhost:8080/",
          "height": 844
        },
        "id": "2oeNi-_e-CRp",
        "outputId": "593a3a21-4231-4c51-e60b-57e5c35ed268"
      },
      "execution_count": 130,
      "outputs": [
        {
          "output_type": "execute_result",
          "data": {
            "text/plain": [
              "array([[<matplotlib.axes._subplots.AxesSubplot object at 0x7fc28b23b910>,\n",
              "        <matplotlib.axes._subplots.AxesSubplot object at 0x7fc2845e2390>],\n",
              "       [<matplotlib.axes._subplots.AxesSubplot object at 0x7fc284580810>,\n",
              "        <matplotlib.axes._subplots.AxesSubplot object at 0x7fc284533d10>],\n",
              "       [<matplotlib.axes._subplots.AxesSubplot object at 0x7fc2844f5250>,\n",
              "        <matplotlib.axes._subplots.AxesSubplot object at 0x7fc28452a750>]],\n",
              "      dtype=object)"
            ]
          },
          "metadata": {},
          "execution_count": 130
        },
        {
          "output_type": "display_data",
          "data": {
            "text/plain": [
              "<Figure size 1440x864 with 6 Axes>"
            ],
            "image/png": "[encoded data removed]"
          },
          "metadata": {
            "needs_background": "light"
          }
        }
      ]
    },
    {
      "cell_type": "code",
      "source": [
        "df.head()"
      ],
      "metadata": {
        "colab": {
          "base_uri": "https://localhost:8080/",
          "height": 206
        },
        "id": "LO477ikg-GCW",
        "outputId": "9f5beabc-b853-4ac9-bac6-f723a4c2a064"
      },
      "execution_count": 131,
      "outputs": [
        {
          "output_type": "execute_result",
          "data": {
            "text/plain": [
              "   is_goal  location_x  location_y  power_of_shot1  distance_of_shot1  \\\n",
              "0        0       -49.0         NaN             3.0               39.0   \n",
              "1        0       -59.0       191.0             4.0               39.0   \n",
              "2        1         0.0         0.0             3.0               20.0   \n",
              "3        0         6.0       242.0             1.0               44.0   \n",
              "4        0      -120.0        82.0             3.0               34.0   \n",
              "\n",
              "   area_of_shot     home_away type_of_shot  \n",
              "0     Center(C)    MANU @ MIN     shot - 3  \n",
              "1     Center(C)    MANU @ PHX    shot - 48  \n",
              "2     Center(C)    MANU @ CHI    shot - 39  \n",
              "3     Center(C)    MANU @ BOS    shot - 50  \n",
              "4  Left Side(L)  MANU vs. MIN     shot - 3  "
            ],
            "text/html": [
              "\n",
              "  <div id=\"df-179a5afa-7b1e-4eee-98e0-9e8c3fafd575\">\n",
              "    <div class=\"colab-df-container\">\n",
              "      <div>\n",
              "<style scoped>\n",
              "    .dataframe tbody tr th:only-of-type {\n",
              "        vertical-align: middle;\n",
              "    }\n",
              "\n",
              "    .dataframe tbody tr th {\n",
              "        vertical-align: top;\n",
              "    }\n",
              "\n",
              "    .dataframe thead th {\n",
              "        text-align: right;\n",
              "    }\n",
              "</style>\n",
              "<table border=\"1\" class=\"dataframe\">\n",
              "  <thead>\n",
              "    <tr style=\"text-align: right;\">\n",
              "      <th></th>\n",
              "      <th>is_goal</th>\n",
              "      <th>location_x</th>\n",
              "      <th>location_y</th>\n",
              "      <th>power_of_shot1</th>\n",
              "      <th>distance_of_shot1</th>\n",
              "      <th>area_of_shot</th>\n",
              "      <th>home_away</th>\n",
              "      <th>type_of_shot</th>\n",
              "    </tr>\n",
              "  </thead>\n",
              "  <tbody>\n",
              "    <tr>\n",
              "      <th>0</th>\n",
              "      <td>0</td>\n",
              "      <td>-49.0</td>\n",
              "      <td>NaN</td>\n",
              "      <td>3.0</td>\n",
              "      <td>39.0</td>\n",
              "      <td>Center(C)</td>\n",
              "      <td>MANU @ MIN</td>\n",
              "      <td>shot - 3</td>\n",
              "    </tr>\n",
              "    <tr>\n",
              "      <th>1</th>\n",
              "      <td>0</td>\n",
              "      <td>-59.0</td>\n",
              "      <td>191.0</td>\n",
              "      <td>4.0</td>\n",
              "      <td>39.0</td>\n",
              "      <td>Center(C)</td>\n",
              "      <td>MANU @ PHX</td>\n",
              "      <td>shot - 48</td>\n",
              "    </tr>\n",
              "    <tr>\n",
              "      <th>2</th>\n",
              "      <td>1</td>\n",
              "      <td>0.0</td>\n",
              "      <td>0.0</td>\n",
              "      <td>3.0</td>\n",
              "      <td>20.0</td>\n",
              "      <td>Center(C)</td>\n",
              "      <td>MANU @ CHI</td>\n",
              "      <td>shot - 39</td>\n",
              "    </tr>\n",
              "    <tr>\n",
              "      <th>3</th>\n",
              "      <td>0</td>\n",
              "      <td>6.0</td>\n",
              "      <td>242.0</td>\n",
              "      <td>1.0</td>\n",
              "      <td>44.0</td>\n",
              "      <td>Center(C)</td>\n",
              "      <td>MANU @ BOS</td>\n",
              "      <td>shot - 50</td>\n",
              "    </tr>\n",
              "    <tr>\n",
              "      <th>4</th>\n",
              "      <td>0</td>\n",
              "      <td>-120.0</td>\n",
              "      <td>82.0</td>\n",
              "      <td>3.0</td>\n",
              "      <td>34.0</td>\n",
              "      <td>Left Side(L)</td>\n",
              "      <td>MANU vs. MIN</td>\n",
              "      <td>shot - 3</td>\n",
              "    </tr>\n",
              "  </tbody>\n",
              "</table>\n",
              "</div>\n",
              "      <button class=\"colab-df-convert\" onclick=\"convertToInteractive('df-179a5afa-7b1e-4eee-98e0-9e8c3fafd575')\"\n",
              "              title=\"Convert this dataframe to an interactive table.\"\n",
              "              style=\"display:none;\">\n",
              "        \n",
              "  <svg xmlns=\"http://www.w3.org/2000/svg\" height=\"24px\"viewBox=\"0 0 24 24\"\n",
              "       width=\"24px\">\n",
              "    <path d=\"M0 0h24v24H0V0z\" fill=\"none\"/>\n",
              "    <path d=\"M18.56 5.44l.94 2.06.94-2.06 2.06-.94-2.06-.94-.94-2.06-.94 2.06-2.06.94zm-11 1L8.5 8.5l.94-2.06 2.06-.94-2.06-.94L8.5 2.5l-.94 2.06-2.06.94zm10 10l.94 2.06.94-2.06 2.06-.94-2.06-.94-.94-2.06-.94 2.06-2.06.94z\"/><path d=\"M17.41 7.96l-1.37-1.37c-.4-.4-.92-.59-1.43-.59-.52 0-1.04.2-1.43.59L10.3 9.45l-7.72 7.72c-.78.78-.78 2.05 0 2.83L4 21.41c.39.39.9.59 1.41.59.51 0 1.02-.2 1.41-.59l7.78-7.78 2.81-2.81c.8-.78.8-2.07 0-2.86zM5.41 20L4 18.59l7.72-7.72 1.47 1.35L5.41 20z\"/>\n",
              "  </svg>\n",
              "      </button>\n",
              "      \n",
              "  <style>\n",
              "    .colab-df-container {\n",
              "      display:flex;\n",
              "      flex-wrap:wrap;\n",
              "      gap: 12px;\n",
              "    }\n",
              "\n",
              "    .colab-df-convert {\n",
              "      background-color: #E8F0FE;\n",
              "      border: none;\n",
              "      border-radius: 50%;\n",
              "      cursor: pointer;\n",
              "      display: none;\n",
              "      fill: #1967D2;\n",
              "      height: 32px;\n",
              "      padding: 0 0 0 0;\n",
              "      width: 32px;\n",
              "    }\n",
              "\n",
              "    .colab-df-convert:hover {\n",
              "      background-color: #E2EBFA;\n",
              "      box-shadow: 0px 1px 2px rgba(60, 64, 67, 0.3), 0px 1px 3px 1px rgba(60, 64, 67, 0.15);\n",
              "      fill: #174EA6;\n",
              "    }\n",
              "\n",
              "    [theme=dark] .colab-df-convert {\n",
              "      background-color: #3B4455;\n",
              "      fill: #D2E3FC;\n",
              "    }\n",
              "\n",
              "    [theme=dark] .colab-df-convert:hover {\n",
              "      background-color: #434B5C;\n",
              "      box-shadow: 0px 1px 3px 1px rgba(0, 0, 0, 0.15);\n",
              "      filter: drop-shadow(0px 1px 2px rgba(0, 0, 0, 0.3));\n",
              "      fill: #FFFFFF;\n",
              "    }\n",
              "  </style>\n",
              "\n",
              "      <script>\n",
              "        const buttonEl =\n",
              "          document.querySelector('#df-179a5afa-7b1e-4eee-98e0-9e8c3fafd575 button.colab-df-convert');\n",
              "        buttonEl.style.display =\n",
              "          google.colab.kernel.accessAllowed ? 'block' : 'none';\n",
              "\n",
              "        async function convertToInteractive(key) {\n",
              "          const element = document.querySelector('#df-179a5afa-7b1e-4eee-98e0-9e8c3fafd575');\n",
              "          const dataTable =\n",
              "            await google.colab.kernel.invokeFunction('convertToInteractive',\n",
              "                                                     [key], {});\n",
              "          if (!dataTable) return;\n",
              "\n",
              "          const docLinkHtml = 'Like what you see? Visit the ' +\n",
              "            '<a target=\"_blank\" href=https://colab.research.google.com/notebooks/data_table.ipynb>data table notebook</a>'\n",
              "            + ' to learn more about interactive tables.';\n",
              "          element.innerHTML = '';\n",
              "          dataTable['output_type'] = 'display_data';\n",
              "          await google.colab.output.renderOutput(dataTable, element);\n",
              "          const docLink = document.createElement('div');\n",
              "          docLink.innerHTML = docLinkHtml;\n",
              "          element.appendChild(docLink);\n",
              "        }\n",
              "      </script>\n",
              "    </div>\n",
              "  </div>\n",
              "  "
            ]
          },
          "metadata": {},
          "execution_count": 131
        }
      ]
    },
    {
      "cell_type": "code",
      "source": [
        "plt.hist(df['power_of_shot1'], bins = 50)\n",
        "plt.show()"
      ],
      "metadata": {
        "colab": {
          "base_uri": "https://localhost:8080/",
          "height": 265
        },
        "id": "aEfhKjglQx2o",
        "outputId": "ed84f53a-7517-4a38-a7b4-97e7ca2bf489"
      },
      "execution_count": 192,
      "outputs": [
        {
          "output_type": "display_data",
          "data": {
            "text/plain": [
              "<Figure size 432x288 with 1 Axes>"
            ],
            "image/png": "[encoded data removed]"
          },
          "metadata": {
            "needs_background": "light"
          }
        }
      ]
    },
    {
      "cell_type": "code",
      "source": [
        "plt.boxplot(df['distance_of_shot1'].dropna(), showmeans = True)\n",
        "plt.show()"
      ],
      "metadata": {
        "colab": {
          "base_uri": "https://localhost:8080/",
          "height": 265
        },
        "id": "JD20oy_7Rlm1",
        "outputId": "87323abc-1eb8-4d8f-d4d5-1823df3bc5ea"
      },
      "execution_count": 197,
      "outputs": [
        {
          "output_type": "display_data",
          "data": {
            "text/plain": [
              "<Figure size 432x288 with 1 Axes>"
            ],
            "image/png": "[encoded data removed]"
          },
          "metadata": {
            "needs_background": "light"
          }
        }
      ]
    },
    {
      "cell_type": "code",
      "source": [
        "corr = df.corr()\n",
        "corr['is_goal']\n"
      ],
      "metadata": {
        "colab": {
          "base_uri": "https://localhost:8080/"
        },
        "id": "o345bojBUZIA",
        "outputId": "ee556602-6d8a-4ded-c44f-2312ed712b71"
      },
      "execution_count": 214,
      "outputs": [
        {
          "output_type": "execute_result",
          "data": {
            "text/plain": [
              "is_goal              1.000000\n",
              "location_x          -0.007192\n",
              "location_y          -0.145694\n",
              "power_of_shot1      -0.040894\n",
              "distance_of_shot1   -0.196214\n",
              "home_away            0.015556\n",
              "type_of_shot        -0.029458\n",
              "Name: is_goal, dtype: float64"
            ]
          },
          "metadata": {},
          "execution_count": 214
        }
      ]
    },
    {
      "cell_type": "code",
      "source": [
        "sns.heatmap(corr, annot = True,fmt='0.2f')"
      ],
      "metadata": {
        "colab": {
          "base_uri": "https://localhost:8080/",
          "height": 367
        },
        "id": "Yet_T7mAU2rj",
        "outputId": "76fb946d-d5dc-4a29-e637-ea1d9f38662b"
      },
      "execution_count": 217,
      "outputs": [
        {
          "output_type": "execute_result",
          "data": {
            "text/plain": [
              "<matplotlib.axes._subplots.AxesSubplot at 0x7fc27e5150d0>"
            ]
          },
          "metadata": {},
          "execution_count": 217
        },
        {
          "output_type": "display_data",
          "data": {
            "text/plain": [
              "<Figure size 432x288 with 2 Axes>"
            ],
            "image/png": "[encoded data removed]"
          },
          "metadata": {
            "needs_background": "light"
          }
        }
      ]
    },
    {
      "cell_type": "code",
      "source": [
        "df['home_away'].value_counts()"
      ],
      "metadata": {
        "colab": {
          "base_uri": "https://localhost:8080/"
        },
        "id": "8Cifaciy-JSv",
        "outputId": "d708dd62-e2a8-45db-bff1-e32066c0eecc"
      },
      "execution_count": 212,
      "outputs": [
        {
          "output_type": "execute_result",
          "data": {
            "text/plain": [
              "0    11131\n",
              "1     9633\n",
              "Name: home_away, dtype: int64"
            ]
          },
          "metadata": {},
          "execution_count": 212
        }
      ]
    },
    {
      "cell_type": "code",
      "source": [
        "df.isna().sum()"
      ],
      "metadata": {
        "colab": {
          "base_uri": "https://localhost:8080/"
        },
        "id": "m54UjEnW-QoH",
        "outputId": "1a8d188a-d903-47de-d944-85b40473a9a3"
      },
      "execution_count": 133,
      "outputs": [
        {
          "output_type": "execute_result",
          "data": {
            "text/plain": [
              "is_goal                 0\n",
              "location_x            954\n",
              "location_y           1042\n",
              "power_of_shot1        240\n",
              "distance_of_shot1    1069\n",
              "area_of_shot         1011\n",
              "home_away            1019\n",
              "type_of_shot            0\n",
              "dtype: int64"
            ]
          },
          "metadata": {},
          "execution_count": 133
        }
      ]
    },
    {
      "cell_type": "code",
      "source": [
        "df['type_of_shot'] = df['type_of_shot'].str.replace('shot - ','' )\n",
        "df['type_of_shot'] = df['type_of_shot'].astype('int64')\n",
        "df.dtypes"
      ],
      "metadata": {
        "colab": {
          "base_uri": "https://localhost:8080/"
        },
        "id": "bpSdDm58-0Do",
        "outputId": "d0c2f353-b56a-4e9a-bc89-62d003cf0841"
      },
      "execution_count": 134,
      "outputs": [
        {
          "output_type": "stream",
          "name": "stderr",
          "text": [
            "/usr/local/lib/python3.7/dist-packages/ipykernel_launcher.py:1: SettingWithCopyWarning: \n",
            "A value is trying to be set on a copy of a slice from a DataFrame.\n",
            "Try using .loc[row_indexer,col_indexer] = value instead\n",
            "\n",
            "See the caveats in the documentation: https://pandas.pydata.org/pandas-docs/stable/user_guide/indexing.html#returning-a-view-versus-a-copy\n",
            "  \"\"\"Entry point for launching an IPython kernel.\n",
            "/usr/local/lib/python3.7/dist-packages/ipykernel_launcher.py:2: SettingWithCopyWarning: \n",
            "A value is trying to be set on a copy of a slice from a DataFrame.\n",
            "Try using .loc[row_indexer,col_indexer] = value instead\n",
            "\n",
            "See the caveats in the documentation: https://pandas.pydata.org/pandas-docs/stable/user_guide/indexing.html#returning-a-view-versus-a-copy\n",
            "  \n"
          ]
        },
        {
          "output_type": "execute_result",
          "data": {
            "text/plain": [
              "is_goal                int64\n",
              "location_x           float64\n",
              "location_y           float64\n",
              "power_of_shot1       float64\n",
              "distance_of_shot1    float64\n",
              "area_of_shot          object\n",
              "home_away             object\n",
              "type_of_shot           int64\n",
              "dtype: object"
            ]
          },
          "metadata": {},
          "execution_count": 134
        }
      ]
    },
    {
      "cell_type": "code",
      "source": [
        "import numpy as np\n",
        "conditions = [(df['home_away'].str.contains('vs.')==True), (df['home_away'].str.contains('vs.')==False)]\n",
        "values = [1, 0]\n",
        "\n",
        "df['home_away'] = np.select(conditions, values)\n",
        "df['home_away'] .value_counts()"
      ],
      "metadata": {
        "colab": {
          "base_uri": "https://localhost:8080/"
        },
        "id": "Wtz5d1Vo--pC",
        "outputId": "6df8b4e3-dc84-4c34-cc99-3dd9b2ea9d02"
      },
      "execution_count": 135,
      "outputs": [
        {
          "output_type": "stream",
          "name": "stderr",
          "text": [
            "/usr/local/lib/python3.7/dist-packages/ipykernel_launcher.py:5: SettingWithCopyWarning: \n",
            "A value is trying to be set on a copy of a slice from a DataFrame.\n",
            "Try using .loc[row_indexer,col_indexer] = value instead\n",
            "\n",
            "See the caveats in the documentation: https://pandas.pydata.org/pandas-docs/stable/user_guide/indexing.html#returning-a-view-versus-a-copy\n",
            "  \"\"\"\n"
          ]
        },
        {
          "output_type": "execute_result",
          "data": {
            "text/plain": [
              "0    11131\n",
              "1     9633\n",
              "Name: home_away, dtype: int64"
            ]
          },
          "metadata": {},
          "execution_count": 135
        }
      ]
    },
    {
      "cell_type": "code",
      "source": [
        "df.dtypes"
      ],
      "metadata": {
        "colab": {
          "base_uri": "https://localhost:8080/"
        },
        "id": "ecOSuCrrCZiC",
        "outputId": "596a820c-36c0-490d-f134-c91201fec59e"
      },
      "execution_count": 138,
      "outputs": [
        {
          "output_type": "execute_result",
          "data": {
            "text/plain": [
              "is_goal                int64\n",
              "location_x           float64\n",
              "location_y           float64\n",
              "power_of_shot1       float64\n",
              "distance_of_shot1    float64\n",
              "area_of_shot          object\n",
              "home_away              int64\n",
              "type_of_shot           int64\n",
              "dtype: object"
            ]
          },
          "metadata": {},
          "execution_count": 138
        }
      ]
    },
    {
      "cell_type": "code",
      "source": [
        "df['area_of_shot'].isna().value_counts()"
      ],
      "metadata": {
        "colab": {
          "base_uri": "https://localhost:8080/"
        },
        "id": "Dj-fXgL0C1y1",
        "outputId": "70592fb0-a627-4163-8832-3e01361d9fd6"
      },
      "execution_count": 140,
      "outputs": [
        {
          "output_type": "execute_result",
          "data": {
            "text/plain": [
              "False    19753\n",
              "True      1011\n",
              "Name: area_of_shot, dtype: int64"
            ]
          },
          "metadata": {},
          "execution_count": 140
        }
      ]
    },
    {
      "cell_type": "code",
      "source": [
        "import matplotlib.pyplot as plt\n",
        "\n",
        "plt.figure(figsize=(10,8))\n",
        "plt.bar(df['area_of_shot'].value_counts().index,df['area_of_shot'].value_counts().values,width = 1, color=[\"lightgreen\", \"cornflowerblue\"])\n",
        "plt.title('Count of levels')\n",
        "plt.show()"
      ],
      "metadata": {
        "colab": {
          "base_uri": "https://localhost:8080/",
          "height": 499
        },
        "id": "H1ehNI-MF4Rp",
        "outputId": "c2e7d129-bfb0-4e24-befe-b434b6432bb7"
      },
      "execution_count": 143,
      "outputs": [
        {
          "output_type": "display_data",
          "data": {
            "text/plain": [
              "<Figure size 720x576 with 1 Axes>"
            ],
            "image/png": "[encoded data removed]"
          },
          "metadata": {
            "needs_background": "light"
          }
        }
      ]
    },
    {
      "cell_type": "markdown",
      "source": [
        "## Fill missing values"
      ],
      "metadata": {
        "id": "uJSG_xK8GViL"
      }
    },
    {
      "cell_type": "code",
      "source": [
        "df.isna().sum()"
      ],
      "metadata": {
        "colab": {
          "base_uri": "https://localhost:8080/"
        },
        "id": "p-cRELacFPnJ",
        "outputId": "d5e8c1d7-bf8b-4a26-c906-a036a8dfdacd"
      },
      "execution_count": 142,
      "outputs": [
        {
          "output_type": "execute_result",
          "data": {
            "text/plain": [
              "is_goal                 0\n",
              "location_x            954\n",
              "location_y           1042\n",
              "power_of_shot1        240\n",
              "distance_of_shot1    1069\n",
              "area_of_shot         1011\n",
              "home_away               0\n",
              "type_of_shot            0\n",
              "dtype: int64"
            ]
          },
          "metadata": {},
          "execution_count": 142
        }
      ]
    },
    {
      "cell_type": "code",
      "source": [
        "df['power_of_shot1'].hist()"
      ],
      "metadata": {
        "colab": {
          "base_uri": "https://localhost:8080/",
          "height": 284
        },
        "id": "tlQpF7uPGmf7",
        "outputId": "2bc6ea87-5902-4887-dfbc-463b33b8a93a"
      },
      "execution_count": 144,
      "outputs": [
        {
          "output_type": "execute_result",
          "data": {
            "text/plain": [
              "<matplotlib.axes._subplots.AxesSubplot at 0x7fc283163dd0>"
            ]
          },
          "metadata": {},
          "execution_count": 144
        },
        {
          "output_type": "display_data",
          "data": {
            "text/plain": [
              "<Figure size 432x288 with 1 Axes>"
            ],
            "image/png": "[encoded data removed]"
          },
          "metadata": {
            "needs_background": "light"
          }
        }
      ]
    },
    {
      "cell_type": "code",
      "source": [
        "from sklearn.impute import SimpleImputer\n",
        "\n",
        "#For numeric values\n",
        "mean = SimpleImputer(strategy='mean')\n",
        "df[['power_of_shot1']] = mean.fit_transform(df[['power_of_shot1']])\n",
        "df['power_of_shot1'].hist()\n"
      ],
      "metadata": {
        "colab": {
          "base_uri": "https://localhost:8080/",
          "height": 393
        },
        "id": "ldtTJpSYFkXK",
        "outputId": "1d94a745-7aaf-4255-df6a-972d542ac860"
      },
      "execution_count": 147,
      "outputs": [
        {
          "output_type": "stream",
          "name": "stderr",
          "text": [
            "/usr/local/lib/python3.7/dist-packages/pandas/core/frame.py:3678: SettingWithCopyWarning: \n",
            "A value is trying to be set on a copy of a slice from a DataFrame.\n",
            "Try using .loc[row_indexer,col_indexer] = value instead\n",
            "\n",
            "See the caveats in the documentation: https://pandas.pydata.org/pandas-docs/stable/user_guide/indexing.html#returning-a-view-versus-a-copy\n",
            "  self[col] = igetitem(value, i)\n"
          ]
        },
        {
          "output_type": "execute_result",
          "data": {
            "text/plain": [
              "<matplotlib.axes._subplots.AxesSubplot at 0x7fc283d28310>"
            ]
          },
          "metadata": {},
          "execution_count": 147
        },
        {
          "output_type": "display_data",
          "data": {
            "text/plain": [
              "<Figure size 432x288 with 1 Axes>"
            ],
            "image/png": "[encoded data removed]"
          },
          "metadata": {
            "needs_background": "light"
          }
        }
      ]
    },
    {
      "cell_type": "code",
      "source": [
        "df.isna().sum()"
      ],
      "metadata": {
        "colab": {
          "base_uri": "https://localhost:8080/"
        },
        "id": "PVpGmbpzG-wN",
        "outputId": "d260138f-2468-4dfd-a0c9-482954ad13de"
      },
      "execution_count": 149,
      "outputs": [
        {
          "output_type": "execute_result",
          "data": {
            "text/plain": [
              "is_goal                 0\n",
              "location_x            954\n",
              "location_y           1042\n",
              "power_of_shot1          0\n",
              "distance_of_shot1    1069\n",
              "area_of_shot         1011\n",
              "home_away               0\n",
              "type_of_shot            0\n",
              "dtype: int64"
            ]
          },
          "metadata": {},
          "execution_count": 149
        }
      ]
    },
    {
      "cell_type": "code",
      "source": [
        "from sklearn.impute import KNNImputer\n",
        "\n",
        "knnImp = KNNImputer(n_neighbors = 4)\n",
        "df[['location_x', 'location_y','distance_of_shot1']] = knnImp.fit_transform(df[['location_x', 'location_y','distance_of_shot1']])\n",
        "df[['location_x', 'location_y','distance_of_shot1']].isna().sum()"
      ],
      "metadata": {
        "colab": {
          "base_uri": "https://localhost:8080/"
        },
        "id": "rburqcicG3XH",
        "outputId": "60d63802-6a28-4cf4-d45a-a46df872a016"
      },
      "execution_count": 155,
      "outputs": [
        {
          "output_type": "stream",
          "name": "stderr",
          "text": [
            "/usr/local/lib/python3.7/dist-packages/pandas/core/frame.py:3678: SettingWithCopyWarning: \n",
            "A value is trying to be set on a copy of a slice from a DataFrame.\n",
            "Try using .loc[row_indexer,col_indexer] = value instead\n",
            "\n",
            "See the caveats in the documentation: https://pandas.pydata.org/pandas-docs/stable/user_guide/indexing.html#returning-a-view-versus-a-copy\n",
            "  self[col] = igetitem(value, i)\n"
          ]
        },
        {
          "output_type": "execute_result",
          "data": {
            "text/plain": [
              "location_x           0\n",
              "location_y           0\n",
              "distance_of_shot1    0\n",
              "dtype: int64"
            ]
          },
          "metadata": {},
          "execution_count": 155
        }
      ]
    },
    {
      "cell_type": "code",
      "source": [
        "df.isna().sum()"
      ],
      "metadata": {
        "colab": {
          "base_uri": "https://localhost:8080/"
        },
        "id": "TNbT1EY5HTYR",
        "outputId": "b386a0a9-18b1-4072-e348-d6e7895332c8"
      },
      "execution_count": 156,
      "outputs": [
        {
          "output_type": "execute_result",
          "data": {
            "text/plain": [
              "is_goal                 0\n",
              "location_x              0\n",
              "location_y              0\n",
              "power_of_shot1          0\n",
              "distance_of_shot1       0\n",
              "area_of_shot         1011\n",
              "home_away               0\n",
              "type_of_shot            0\n",
              "dtype: int64"
            ]
          },
          "metadata": {},
          "execution_count": 156
        }
      ]
    },
    {
      "cell_type": "code",
      "source": [
        "sns.countplot(df['area_of_shot'])"
      ],
      "metadata": {
        "colab": {
          "base_uri": "https://localhost:8080/",
          "height": 355
        },
        "id": "MCZR8CcBIBxx",
        "outputId": "65be5b94-4975-4493-b833-89195c63f7ca"
      },
      "execution_count": 158,
      "outputs": [
        {
          "output_type": "stream",
          "name": "stderr",
          "text": [
            "/usr/local/lib/python3.7/dist-packages/seaborn/_decorators.py:43: FutureWarning: Pass the following variable as a keyword arg: x. From version 0.12, the only valid positional argument will be `data`, and passing other arguments without an explicit keyword will result in an error or misinterpretation.\n",
            "  FutureWarning\n"
          ]
        },
        {
          "output_type": "execute_result",
          "data": {
            "text/plain": [
              "<matplotlib.axes._subplots.AxesSubplot at 0x7fc282ea96d0>"
            ]
          },
          "metadata": {},
          "execution_count": 158
        },
        {
          "output_type": "display_data",
          "data": {
            "text/plain": [
              "<Figure size 432x288 with 1 Axes>"
            ],
            "image/png": "[encoded data removed]"
          },
          "metadata": {
            "needs_background": "light"
          }
        }
      ]
    },
    {
      "cell_type": "code",
      "source": [
        "from statistics import mode\n",
        "moda = mode(df['area_of_shot'])\n",
        "df['area_of_shot'].fillna(mode, inplace = True)\n",
        "df.isna().sum()"
      ],
      "metadata": {
        "colab": {
          "base_uri": "https://localhost:8080/"
        },
        "id": "fXYgIWqsIL18",
        "outputId": "c14efa94-331a-468b-de56-79aa5e51febd"
      },
      "execution_count": 159,
      "outputs": [
        {
          "output_type": "stream",
          "name": "stderr",
          "text": [
            "/usr/local/lib/python3.7/dist-packages/pandas/core/generic.py:6392: SettingWithCopyWarning: \n",
            "A value is trying to be set on a copy of a slice from a DataFrame\n",
            "\n",
            "See the caveats in the documentation: https://pandas.pydata.org/pandas-docs/stable/user_guide/indexing.html#returning-a-view-versus-a-copy\n",
            "  return self._update_inplace(result)\n"
          ]
        },
        {
          "output_type": "execute_result",
          "data": {
            "text/plain": [
              "is_goal              0\n",
              "location_x           0\n",
              "location_y           0\n",
              "power_of_shot1       0\n",
              "distance_of_shot1    0\n",
              "area_of_shot         0\n",
              "home_away            0\n",
              "type_of_shot         0\n",
              "dtype: int64"
            ]
          },
          "metadata": {},
          "execution_count": 159
        }
      ]
    },
    {
      "cell_type": "markdown",
      "source": [
        "## Build the model"
      ],
      "metadata": {
        "id": "fr3akwP-Ihek"
      }
    },
    {
      "cell_type": "code",
      "source": [
        "cat_df = df['area_of_shot']\n",
        "num_df = df.drop('area_of_shot', axis = 1)\n",
        "df_categorical_encoded = pd.get_dummies(cat_df, drop_first=True)\n",
        "df_new = pd.concat([num_df, df_categorical_encoded], axis=1)"
      ],
      "metadata": {
        "id": "CYyGvUZcIlVw"
      },
      "execution_count": 173,
      "outputs": []
    },
    {
      "cell_type": "code",
      "source": [
        "y= df_new['is_goal']\n",
        "X = df_new.drop('is_goal', axis = 1)\n",
        "(X.shape, y.shape)"
      ],
      "metadata": {
        "colab": {
          "base_uri": "https://localhost:8080/"
        },
        "id": "AIKSb-tLKEpJ",
        "outputId": "e097ea15-7421-44a9-8bea-923334da939c"
      },
      "execution_count": 174,
      "outputs": [
        {
          "output_type": "execute_result",
          "data": {
            "text/plain": [
              "((20764, 12), (20764,))"
            ]
          },
          "metadata": {},
          "execution_count": 174
        }
      ]
    },
    {
      "cell_type": "code",
      "source": [
        "from sklearn.preprocessing import StandardScaler\n",
        "\n",
        "ss = StandardScaler()\n",
        "ss.fit_transform(X)"
      ],
      "metadata": {
        "colab": {
          "base_uri": "https://localhost:8080/"
        },
        "id": "tK558YuWKUqt",
        "outputId": "173d66b2-e1c3-45d3-ff2b-77d9d837f202"
      },
      "execution_count": 177,
      "outputs": [
        {
          "output_type": "execute_result",
          "data": {
            "text/plain": [
              "array([[-0.52408871,  0.80469965,  0.41526661, ..., -0.05153494,\n",
              "        -0.41566339, -0.41047072],\n",
              "       [-0.61661834,  1.14901335,  1.28691028, ..., -0.05153494,\n",
              "        -0.41566339, -0.41047072],\n",
              "       [-0.07069352, -1.04311716,  0.41526661, ..., -0.05153494,\n",
              "        -0.41566339, -0.41047072],\n",
              "       ...,\n",
              "       [ 1.15995054, -0.74471196,  1.28691028, ..., -0.05153494,\n",
              "        -0.41566339,  2.43622736],\n",
              "       [-0.41305315,  1.66548389,  0.41526661, ..., -0.05153494,\n",
              "        -0.41566339, -0.41047072],\n",
              "       [-0.07069352, -1.04311716,  0.41526661, ..., -0.05153494,\n",
              "        -0.41566339, -0.41047072]])"
            ]
          },
          "metadata": {},
          "execution_count": 177
        }
      ]
    },
    {
      "cell_type": "code",
      "source": [
        "from sklearn.model_selection import train_test_split\n",
        "\n",
        "X_train, X_test, y_train, y_test = train_test_split(X,y, test_size = 0.25, random_state=123)\n",
        "((X_train.shape, y_train.shape),(X_test.shape, y_test.shape))"
      ],
      "metadata": {
        "colab": {
          "base_uri": "https://localhost:8080/"
        },
        "id": "uH0ibY3iMOf_",
        "outputId": "e9f798bb-1d40-42ec-de53-8d568270da09"
      },
      "execution_count": 178,
      "outputs": [
        {
          "output_type": "execute_result",
          "data": {
            "text/plain": [
              "(((15573, 12), (15573,)), ((5191, 12), (5191,)))"
            ]
          },
          "metadata": {},
          "execution_count": 178
        }
      ]
    },
    {
      "cell_type": "code",
      "source": [
        "from sklearn.linear_model import LogisticRegression\n",
        "\n",
        "lreg = LogisticRegression(solver = 'lbfgs')\n",
        "lreg.fit(X_train,y_train)\n",
        "y_pred = lreg.predict(X_test)"
      ],
      "metadata": {
        "colab": {
          "base_uri": "https://localhost:8080/"
        },
        "id": "bGredhcWMYxI",
        "outputId": "3207c9ff-d2b2-4ca0-ca6d-dcacf81db640"
      },
      "execution_count": 185,
      "outputs": [
        {
          "output_type": "stream",
          "name": "stderr",
          "text": [
            "/usr/local/lib/python3.7/dist-packages/sklearn/linear_model/_logistic.py:818: ConvergenceWarning: lbfgs failed to converge (status=1):\n",
            "STOP: TOTAL NO. of ITERATIONS REACHED LIMIT.\n",
            "\n",
            "Increase the number of iterations (max_iter) or scale the data as shown in:\n",
            "    https://scikit-learn.org/stable/modules/preprocessing.html\n",
            "Please also refer to the documentation for alternative solver options:\n",
            "    https://scikit-learn.org/stable/modules/linear_model.html#logistic-regression\n",
            "  extra_warning_msg=_LOGISTIC_SOLVER_CONVERGENCE_MSG,\n"
          ]
        }
      ]
    },
    {
      "cell_type": "code",
      "source": [
        "from sklearn.metrics import accuracy_score\n",
        "\n",
        "acc = accuracy_score(y_test, y_pred)\n",
        "print('The accuracy is: {}'.format(acc))"
      ],
      "metadata": {
        "colab": {
          "base_uri": "https://localhost:8080/"
        },
        "id": "eNEDiDf_NK_a",
        "outputId": "8c8b953e-6a0a-4610-f168-0f831bd1399e"
      },
      "execution_count": 186,
      "outputs": [
        {
          "output_type": "stream",
          "name": "stdout",
          "text": [
            "The accuracy is: 0.6041225197457137\n"
          ]
        }
      ]
    },
    {
      "cell_type": "code",
      "source": [
        "from sklearn.metrics import confusion_matrix\n",
        "\n",
        "cm = confusion_matrix(y_test, y_pred)\n",
        "sns.heatmap(cm/np.sum(cm), annot = True,fmt='.2%', cmap = 'Blues')"
      ],
      "metadata": {
        "colab": {
          "base_uri": "https://localhost:8080/",
          "height": 284
        },
        "id": "Ako51OTvN3W8",
        "outputId": "16484ed8-59ba-45bf-f39d-3525815e641b"
      },
      "execution_count": 187,
      "outputs": [
        {
          "output_type": "execute_result",
          "data": {
            "text/plain": [
              "<matplotlib.axes._subplots.AxesSubplot at 0x7fc282be9f50>"
            ]
          },
          "metadata": {},
          "execution_count": 187
        },
        {
          "output_type": "display_data",
          "data": {
            "text/plain": [
              "<Figure size 432x288 with 2 Axes>"
            ],
            "image/png": "[encoded data removed]"
          },
          "metadata": {
            "needs_background": "light"
          }
        }
      ]
    }
  ]
}