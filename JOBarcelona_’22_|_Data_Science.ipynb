{
  "nbformat": 4,
  "nbformat_minor": 0,
  "metadata": {
    "colab": {
      "name": "JOBarcelona ’22 | Data Science.ipynb",
      "provenance": [],
      "authorship_tag": "ABX9TyPUq+sUCEapNg8pT/mCFz7E",
      "include_colab_link": true
    },
    "kernelspec": {
      "name": "python3",
      "display_name": "Python 3"
    },
    "language_info": {
      "name": "python"
    }
  },
  "cells": [
    {
      "cell_type": "markdown",
      "metadata": {
        "id": "view-in-github",
        "colab_type": "text"
      },
      "source": [
        "<a href=\"https://colab.research.google.com/github/camilotorron/TestNotebooks/blob/main/JOBarcelona_%E2%80%9922_%7C_Data_Science.ipynb\" target=\"_parent\"><img src=\"https://colab.research.google.com/assets/colab-badge.svg\" alt=\"Open In Colab\"/></a>"
      ]
    },
    {
      "cell_type": "code",
      "execution_count": 121,
      "metadata": {
        "id": "gLUcFjCWvJ7l"
      },
      "outputs": [],
      "source": [
        "import pandas as pd\n",
        "from sklearn.model_selection import train_test_split"
      ]
    },
    {
      "cell_type": "code",
      "source": [
        "raw = pd.read_csv('/content/train (1).csv')"
      ],
      "metadata": {
        "id": "JYrC8WUOvVoT"
      },
      "execution_count": 60,
      "outputs": []
    },
    {
      "cell_type": "code",
      "source": [
        "raw.head()"
      ],
      "metadata": {
        "colab": {
          "base_uri": "https://localhost:8080/",
          "height": 206
        },
        "id": "tKmTofzVvZX6",
        "outputId": "0ab74424-4ccf-454a-e865-89f6a00518b7"
      },
      "execution_count": 61,
      "outputs": [
        {
          "output_type": "execute_result",
          "data": {
            "text/plain": [
              "   Unnamed: 0  Hour  Minutes  Sensor_alpha  Sensor_beta  Sensor_gamma  \\\n",
              "0           0    22       26    119.910995   242.838324   -316.819222   \n",
              "1           1    10       16    -90.790536  -269.470767   -182.581844   \n",
              "2           2    21       42    -20.028003  -147.070212     50.280872   \n",
              "3           3    21       17    -21.258567     0.467070    -86.164153   \n",
              "4           4    18       16    -58.154501   -13.051195   -156.501167   \n",
              "\n",
              "   Sensor_alpha_plus  Sensor_beta_plus  Sensor_gamma_plus  Insect  \n",
              "0         250.195048        -53.547777        -112.049983       2  \n",
              "1          95.394941         37.291944          48.525180       0  \n",
              "2         -90.750386        -50.476556          85.399009       1  \n",
              "3         -21.813529       -209.256006          16.291882       0  \n",
              "4          48.392938       -110.008860         -10.285138       2  "
            ],
            "text/html": [
              "\n",
              "  <div id=\"df-919ffb0b-b9b7-4a6b-b262-89de8982ccff\">\n",
              "    <div class=\"colab-df-container\">\n",
              "      <div>\n",
              "<style scoped>\n",
              "    .dataframe tbody tr th:only-of-type {\n",
              "        vertical-align: middle;\n",
              "    }\n",
              "\n",
              "    .dataframe tbody tr th {\n",
              "        vertical-align: top;\n",
              "    }\n",
              "\n",
              "    .dataframe thead th {\n",
              "        text-align: right;\n",
              "    }\n",
              "</style>\n",
              "<table border=\"1\" class=\"dataframe\">\n",
              "  <thead>\n",
              "    <tr style=\"text-align: right;\">\n",
              "      <th></th>\n",
              "      <th>Unnamed: 0</th>\n",
              "      <th>Hour</th>\n",
              "      <th>Minutes</th>\n",
              "      <th>Sensor_alpha</th>\n",
              "      <th>Sensor_beta</th>\n",
              "      <th>Sensor_gamma</th>\n",
              "      <th>Sensor_alpha_plus</th>\n",
              "      <th>Sensor_beta_plus</th>\n",
              "      <th>Sensor_gamma_plus</th>\n",
              "      <th>Insect</th>\n",
              "    </tr>\n",
              "  </thead>\n",
              "  <tbody>\n",
              "    <tr>\n",
              "      <th>0</th>\n",
              "      <td>0</td>\n",
              "      <td>22</td>\n",
              "      <td>26</td>\n",
              "      <td>119.910995</td>\n",
              "      <td>242.838324</td>\n",
              "      <td>-316.819222</td>\n",
              "      <td>250.195048</td>\n",
              "      <td>-53.547777</td>\n",
              "      <td>-112.049983</td>\n",
              "      <td>2</td>\n",
              "    </tr>\n",
              "    <tr>\n",
              "      <th>1</th>\n",
              "      <td>1</td>\n",
              "      <td>10</td>\n",
              "      <td>16</td>\n",
              "      <td>-90.790536</td>\n",
              "      <td>-269.470767</td>\n",
              "      <td>-182.581844</td>\n",
              "      <td>95.394941</td>\n",
              "      <td>37.291944</td>\n",
              "      <td>48.525180</td>\n",
              "      <td>0</td>\n",
              "    </tr>\n",
              "    <tr>\n",
              "      <th>2</th>\n",
              "      <td>2</td>\n",
              "      <td>21</td>\n",
              "      <td>42</td>\n",
              "      <td>-20.028003</td>\n",
              "      <td>-147.070212</td>\n",
              "      <td>50.280872</td>\n",
              "      <td>-90.750386</td>\n",
              "      <td>-50.476556</td>\n",
              "      <td>85.399009</td>\n",
              "      <td>1</td>\n",
              "    </tr>\n",
              "    <tr>\n",
              "      <th>3</th>\n",
              "      <td>3</td>\n",
              "      <td>21</td>\n",
              "      <td>17</td>\n",
              "      <td>-21.258567</td>\n",
              "      <td>0.467070</td>\n",
              "      <td>-86.164153</td>\n",
              "      <td>-21.813529</td>\n",
              "      <td>-209.256006</td>\n",
              "      <td>16.291882</td>\n",
              "      <td>0</td>\n",
              "    </tr>\n",
              "    <tr>\n",
              "      <th>4</th>\n",
              "      <td>4</td>\n",
              "      <td>18</td>\n",
              "      <td>16</td>\n",
              "      <td>-58.154501</td>\n",
              "      <td>-13.051195</td>\n",
              "      <td>-156.501167</td>\n",
              "      <td>48.392938</td>\n",
              "      <td>-110.008860</td>\n",
              "      <td>-10.285138</td>\n",
              "      <td>2</td>\n",
              "    </tr>\n",
              "  </tbody>\n",
              "</table>\n",
              "</div>\n",
              "      <button class=\"colab-df-convert\" onclick=\"convertToInteractive('df-919ffb0b-b9b7-4a6b-b262-89de8982ccff')\"\n",
              "              title=\"Convert this dataframe to an interactive table.\"\n",
              "              style=\"display:none;\">\n",
              "        \n",
              "  <svg xmlns=\"http://www.w3.org/2000/svg\" height=\"24px\"viewBox=\"0 0 24 24\"\n",
              "       width=\"24px\">\n",
              "    <path d=\"M0 0h24v24H0V0z\" fill=\"none\"/>\n",
              "    <path d=\"M18.56 5.44l.94 2.06.94-2.06 2.06-.94-2.06-.94-.94-2.06-.94 2.06-2.06.94zm-11 1L8.5 8.5l.94-2.06 2.06-.94-2.06-.94L8.5 2.5l-.94 2.06-2.06.94zm10 10l.94 2.06.94-2.06 2.06-.94-2.06-.94-.94-2.06-.94 2.06-2.06.94z\"/><path d=\"M17.41 7.96l-1.37-1.37c-.4-.4-.92-.59-1.43-.59-.52 0-1.04.2-1.43.59L10.3 9.45l-7.72 7.72c-.78.78-.78 2.05 0 2.83L4 21.41c.39.39.9.59 1.41.59.51 0 1.02-.2 1.41-.59l7.78-7.78 2.81-2.81c.8-.78.8-2.07 0-2.86zM5.41 20L4 18.59l7.72-7.72 1.47 1.35L5.41 20z\"/>\n",
              "  </svg>\n",
              "      </button>\n",
              "      \n",
              "  <style>\n",
              "    .colab-df-container {\n",
              "      display:flex;\n",
              "      flex-wrap:wrap;\n",
              "      gap: 12px;\n",
              "    }\n",
              "\n",
              "    .colab-df-convert {\n",
              "      background-color: #E8F0FE;\n",
              "      border: none;\n",
              "      border-radius: 50%;\n",
              "      cursor: pointer;\n",
              "      display: none;\n",
              "      fill: #1967D2;\n",
              "      height: 32px;\n",
              "      padding: 0 0 0 0;\n",
              "      width: 32px;\n",
              "    }\n",
              "\n",
              "    .colab-df-convert:hover {\n",
              "      background-color: #E2EBFA;\n",
              "      box-shadow: 0px 1px 2px rgba(60, 64, 67, 0.3), 0px 1px 3px 1px rgba(60, 64, 67, 0.15);\n",
              "      fill: #174EA6;\n",
              "    }\n",
              "\n",
              "    [theme=dark] .colab-df-convert {\n",
              "      background-color: #3B4455;\n",
              "      fill: #D2E3FC;\n",
              "    }\n",
              "\n",
              "    [theme=dark] .colab-df-convert:hover {\n",
              "      background-color: #434B5C;\n",
              "      box-shadow: 0px 1px 3px 1px rgba(0, 0, 0, 0.15);\n",
              "      filter: drop-shadow(0px 1px 2px rgba(0, 0, 0, 0.3));\n",
              "      fill: #FFFFFF;\n",
              "    }\n",
              "  </style>\n",
              "\n",
              "      <script>\n",
              "        const buttonEl =\n",
              "          document.querySelector('#df-919ffb0b-b9b7-4a6b-b262-89de8982ccff button.colab-df-convert');\n",
              "        buttonEl.style.display =\n",
              "          google.colab.kernel.accessAllowed ? 'block' : 'none';\n",
              "\n",
              "        async function convertToInteractive(key) {\n",
              "          const element = document.querySelector('#df-919ffb0b-b9b7-4a6b-b262-89de8982ccff');\n",
              "          const dataTable =\n",
              "            await google.colab.kernel.invokeFunction('convertToInteractive',\n",
              "                                                     [key], {});\n",
              "          if (!dataTable) return;\n",
              "\n",
              "          const docLinkHtml = 'Like what you see? Visit the ' +\n",
              "            '<a target=\"_blank\" href=https://colab.research.google.com/notebooks/data_table.ipynb>data table notebook</a>'\n",
              "            + ' to learn more about interactive tables.';\n",
              "          element.innerHTML = '';\n",
              "          dataTable['output_type'] = 'display_data';\n",
              "          await google.colab.output.renderOutput(dataTable, element);\n",
              "          const docLink = document.createElement('div');\n",
              "          docLink.innerHTML = docLinkHtml;\n",
              "          element.appendChild(docLink);\n",
              "        }\n",
              "      </script>\n",
              "    </div>\n",
              "  </div>\n",
              "  "
            ]
          },
          "metadata": {},
          "execution_count": 61
        }
      ]
    },
    {
      "cell_type": "code",
      "source": [
        "len(raw)"
      ],
      "metadata": {
        "colab": {
          "base_uri": "https://localhost:8080/"
        },
        "id": "RRrH2NrLvazl",
        "outputId": "fb20310c-e15a-401e-f81b-b150ae425200"
      },
      "execution_count": 62,
      "outputs": [
        {
          "output_type": "execute_result",
          "data": {
            "text/plain": [
              "7001"
            ]
          },
          "metadata": {},
          "execution_count": 62
        }
      ]
    },
    {
      "cell_type": "code",
      "source": [
        "raw.isna().sum()"
      ],
      "metadata": {
        "colab": {
          "base_uri": "https://localhost:8080/"
        },
        "id": "Rpi0I_Cwvdy_",
        "outputId": "55baed48-7215-4760-95c2-8eb0b55aece6"
      },
      "execution_count": 63,
      "outputs": [
        {
          "output_type": "execute_result",
          "data": {
            "text/plain": [
              "Unnamed: 0           0\n",
              "Hour                 0\n",
              "Minutes              0\n",
              "Sensor_alpha         0\n",
              "Sensor_beta          0\n",
              "Sensor_gamma         0\n",
              "Sensor_alpha_plus    0\n",
              "Sensor_beta_plus     0\n",
              "Sensor_gamma_plus    0\n",
              "Insect               0\n",
              "dtype: int64"
            ]
          },
          "metadata": {},
          "execution_count": 63
        }
      ]
    },
    {
      "cell_type": "code",
      "source": [
        "raw.describe()"
      ],
      "metadata": {
        "colab": {
          "base_uri": "https://localhost:8080/",
          "height": 300
        },
        "id": "viRn6-VHvhm4",
        "outputId": "5780298f-ceb7-49cc-ca03-5ace6be01880"
      },
      "execution_count": 64,
      "outputs": [
        {
          "output_type": "execute_result",
          "data": {
            "text/plain": [
              "       Unnamed: 0         Hour      Minutes  Sensor_alpha  Sensor_beta  \\\n",
              "count  7001.00000  7001.000000  7001.000000   7001.000000  7001.000000   \n",
              "mean   3500.00000    19.598914    29.405942      0.477171   -29.974117   \n",
              "std    2021.15895     3.507008    17.375830     99.294856   133.095125   \n",
              "min       0.00000     1.000000     0.000000   -404.898823  -656.272666   \n",
              "25%    1750.00000    19.000000    14.000000    -68.573905  -116.060383   \n",
              "50%    3500.00000    21.000000    29.000000     -0.287447   -36.171567   \n",
              "75%    5250.00000    21.000000    44.000000     66.480795    56.637778   \n",
              "max    7000.00000    23.000000    59.000000    351.256221   518.395878   \n",
              "\n",
              "       Sensor_gamma  Sensor_alpha_plus  Sensor_beta_plus  Sensor_gamma_plus  \\\n",
              "count   7001.000000        7001.000000       7001.000000        7001.000000   \n",
              "mean      -5.624690           7.188060         -0.757901          -0.554533   \n",
              "std      115.871391         122.327980        100.039477         100.535951   \n",
              "min     -448.478039        -437.205393       -387.567443        -374.961689   \n",
              "25%      -83.508747         -79.496687        -68.061596         -69.652647   \n",
              "50%       -1.217606          -1.133567         -0.444124           0.027128   \n",
              "75%       76.870277          93.285286         66.181909          67.838524   \n",
              "max      378.349287         462.556319        345.279240         363.682391   \n",
              "\n",
              "            Insect  \n",
              "count  7001.000000  \n",
              "mean      0.595772  \n",
              "std       0.661604  \n",
              "min       0.000000  \n",
              "25%       0.000000  \n",
              "50%       0.000000  \n",
              "75%       1.000000  \n",
              "max       2.000000  "
            ],
            "text/html": [
              "\n",
              "  <div id=\"df-6d0bfb6e-50f3-4a09-b3da-70bb9feff313\">\n",
              "    <div class=\"colab-df-container\">\n",
              "      <div>\n",
              "<style scoped>\n",
              "    .dataframe tbody tr th:only-of-type {\n",
              "        vertical-align: middle;\n",
              "    }\n",
              "\n",
              "    .dataframe tbody tr th {\n",
              "        vertical-align: top;\n",
              "    }\n",
              "\n",
              "    .dataframe thead th {\n",
              "        text-align: right;\n",
              "    }\n",
              "</style>\n",
              "<table border=\"1\" class=\"dataframe\">\n",
              "  <thead>\n",
              "    <tr style=\"text-align: right;\">\n",
              "      <th></th>\n",
              "      <th>Unnamed: 0</th>\n",
              "      <th>Hour</th>\n",
              "      <th>Minutes</th>\n",
              "      <th>Sensor_alpha</th>\n",
              "      <th>Sensor_beta</th>\n",
              "      <th>Sensor_gamma</th>\n",
              "      <th>Sensor_alpha_plus</th>\n",
              "      <th>Sensor_beta_plus</th>\n",
              "      <th>Sensor_gamma_plus</th>\n",
              "      <th>Insect</th>\n",
              "    </tr>\n",
              "  </thead>\n",
              "  <tbody>\n",
              "    <tr>\n",
              "      <th>count</th>\n",
              "      <td>7001.00000</td>\n",
              "      <td>7001.000000</td>\n",
              "      <td>7001.000000</td>\n",
              "      <td>7001.000000</td>\n",
              "      <td>7001.000000</td>\n",
              "      <td>7001.000000</td>\n",
              "      <td>7001.000000</td>\n",
              "      <td>7001.000000</td>\n",
              "      <td>7001.000000</td>\n",
              "      <td>7001.000000</td>\n",
              "    </tr>\n",
              "    <tr>\n",
              "      <th>mean</th>\n",
              "      <td>3500.00000</td>\n",
              "      <td>19.598914</td>\n",
              "      <td>29.405942</td>\n",
              "      <td>0.477171</td>\n",
              "      <td>-29.974117</td>\n",
              "      <td>-5.624690</td>\n",
              "      <td>7.188060</td>\n",
              "      <td>-0.757901</td>\n",
              "      <td>-0.554533</td>\n",
              "      <td>0.595772</td>\n",
              "    </tr>\n",
              "    <tr>\n",
              "      <th>std</th>\n",
              "      <td>2021.15895</td>\n",
              "      <td>3.507008</td>\n",
              "      <td>17.375830</td>\n",
              "      <td>99.294856</td>\n",
              "      <td>133.095125</td>\n",
              "      <td>115.871391</td>\n",
              "      <td>122.327980</td>\n",
              "      <td>100.039477</td>\n",
              "      <td>100.535951</td>\n",
              "      <td>0.661604</td>\n",
              "    </tr>\n",
              "    <tr>\n",
              "      <th>min</th>\n",
              "      <td>0.00000</td>\n",
              "      <td>1.000000</td>\n",
              "      <td>0.000000</td>\n",
              "      <td>-404.898823</td>\n",
              "      <td>-656.272666</td>\n",
              "      <td>-448.478039</td>\n",
              "      <td>-437.205393</td>\n",
              "      <td>-387.567443</td>\n",
              "      <td>-374.961689</td>\n",
              "      <td>0.000000</td>\n",
              "    </tr>\n",
              "    <tr>\n",
              "      <th>25%</th>\n",
              "      <td>1750.00000</td>\n",
              "      <td>19.000000</td>\n",
              "      <td>14.000000</td>\n",
              "      <td>-68.573905</td>\n",
              "      <td>-116.060383</td>\n",
              "      <td>-83.508747</td>\n",
              "      <td>-79.496687</td>\n",
              "      <td>-68.061596</td>\n",
              "      <td>-69.652647</td>\n",
              "      <td>0.000000</td>\n",
              "    </tr>\n",
              "    <tr>\n",
              "      <th>50%</th>\n",
              "      <td>3500.00000</td>\n",
              "      <td>21.000000</td>\n",
              "      <td>29.000000</td>\n",
              "      <td>-0.287447</td>\n",
              "      <td>-36.171567</td>\n",
              "      <td>-1.217606</td>\n",
              "      <td>-1.133567</td>\n",
              "      <td>-0.444124</td>\n",
              "      <td>0.027128</td>\n",
              "      <td>0.000000</td>\n",
              "    </tr>\n",
              "    <tr>\n",
              "      <th>75%</th>\n",
              "      <td>5250.00000</td>\n",
              "      <td>21.000000</td>\n",
              "      <td>44.000000</td>\n",
              "      <td>66.480795</td>\n",
              "      <td>56.637778</td>\n",
              "      <td>76.870277</td>\n",
              "      <td>93.285286</td>\n",
              "      <td>66.181909</td>\n",
              "      <td>67.838524</td>\n",
              "      <td>1.000000</td>\n",
              "    </tr>\n",
              "    <tr>\n",
              "      <th>max</th>\n",
              "      <td>7000.00000</td>\n",
              "      <td>23.000000</td>\n",
              "      <td>59.000000</td>\n",
              "      <td>351.256221</td>\n",
              "      <td>518.395878</td>\n",
              "      <td>378.349287</td>\n",
              "      <td>462.556319</td>\n",
              "      <td>345.279240</td>\n",
              "      <td>363.682391</td>\n",
              "      <td>2.000000</td>\n",
              "    </tr>\n",
              "  </tbody>\n",
              "</table>\n",
              "</div>\n",
              "      <button class=\"colab-df-convert\" onclick=\"convertToInteractive('df-6d0bfb6e-50f3-4a09-b3da-70bb9feff313')\"\n",
              "              title=\"Convert this dataframe to an interactive table.\"\n",
              "              style=\"display:none;\">\n",
              "        \n",
              "  <svg xmlns=\"http://www.w3.org/2000/svg\" height=\"24px\"viewBox=\"0 0 24 24\"\n",
              "       width=\"24px\">\n",
              "    <path d=\"M0 0h24v24H0V0z\" fill=\"none\"/>\n",
              "    <path d=\"M18.56 5.44l.94 2.06.94-2.06 2.06-.94-2.06-.94-.94-2.06-.94 2.06-2.06.94zm-11 1L8.5 8.5l.94-2.06 2.06-.94-2.06-.94L8.5 2.5l-.94 2.06-2.06.94zm10 10l.94 2.06.94-2.06 2.06-.94-2.06-.94-.94-2.06-.94 2.06-2.06.94z\"/><path d=\"M17.41 7.96l-1.37-1.37c-.4-.4-.92-.59-1.43-.59-.52 0-1.04.2-1.43.59L10.3 9.45l-7.72 7.72c-.78.78-.78 2.05 0 2.83L4 21.41c.39.39.9.59 1.41.59.51 0 1.02-.2 1.41-.59l7.78-7.78 2.81-2.81c.8-.78.8-2.07 0-2.86zM5.41 20L4 18.59l7.72-7.72 1.47 1.35L5.41 20z\"/>\n",
              "  </svg>\n",
              "      </button>\n",
              "      \n",
              "  <style>\n",
              "    .colab-df-container {\n",
              "      display:flex;\n",
              "      flex-wrap:wrap;\n",
              "      gap: 12px;\n",
              "    }\n",
              "\n",
              "    .colab-df-convert {\n",
              "      background-color: #E8F0FE;\n",
              "      border: none;\n",
              "      border-radius: 50%;\n",
              "      cursor: pointer;\n",
              "      display: none;\n",
              "      fill: #1967D2;\n",
              "      height: 32px;\n",
              "      padding: 0 0 0 0;\n",
              "      width: 32px;\n",
              "    }\n",
              "\n",
              "    .colab-df-convert:hover {\n",
              "      background-color: #E2EBFA;\n",
              "      box-shadow: 0px 1px 2px rgba(60, 64, 67, 0.3), 0px 1px 3px 1px rgba(60, 64, 67, 0.15);\n",
              "      fill: #174EA6;\n",
              "    }\n",
              "\n",
              "    [theme=dark] .colab-df-convert {\n",
              "      background-color: #3B4455;\n",
              "      fill: #D2E3FC;\n",
              "    }\n",
              "\n",
              "    [theme=dark] .colab-df-convert:hover {\n",
              "      background-color: #434B5C;\n",
              "      box-shadow: 0px 1px 3px 1px rgba(0, 0, 0, 0.15);\n",
              "      filter: drop-shadow(0px 1px 2px rgba(0, 0, 0, 0.3));\n",
              "      fill: #FFFFFF;\n",
              "    }\n",
              "  </style>\n",
              "\n",
              "      <script>\n",
              "        const buttonEl =\n",
              "          document.querySelector('#df-6d0bfb6e-50f3-4a09-b3da-70bb9feff313 button.colab-df-convert');\n",
              "        buttonEl.style.display =\n",
              "          google.colab.kernel.accessAllowed ? 'block' : 'none';\n",
              "\n",
              "        async function convertToInteractive(key) {\n",
              "          const element = document.querySelector('#df-6d0bfb6e-50f3-4a09-b3da-70bb9feff313');\n",
              "          const dataTable =\n",
              "            await google.colab.kernel.invokeFunction('convertToInteractive',\n",
              "                                                     [key], {});\n",
              "          if (!dataTable) return;\n",
              "\n",
              "          const docLinkHtml = 'Like what you see? Visit the ' +\n",
              "            '<a target=\"_blank\" href=https://colab.research.google.com/notebooks/data_table.ipynb>data table notebook</a>'\n",
              "            + ' to learn more about interactive tables.';\n",
              "          element.innerHTML = '';\n",
              "          dataTable['output_type'] = 'display_data';\n",
              "          await google.colab.output.renderOutput(dataTable, element);\n",
              "          const docLink = document.createElement('div');\n",
              "          docLink.innerHTML = docLinkHtml;\n",
              "          element.appendChild(docLink);\n",
              "        }\n",
              "      </script>\n",
              "    </div>\n",
              "  </div>\n",
              "  "
            ]
          },
          "metadata": {},
          "execution_count": 64
        }
      ]
    },
    {
      "cell_type": "code",
      "source": [
        "raw.Insect.value_counts()"
      ],
      "metadata": {
        "colab": {
          "base_uri": "https://localhost:8080/"
        },
        "id": "dNtg3X2OvlkW",
        "outputId": "840a216b-a575-4178-e25d-127bea505d94"
      },
      "execution_count": 65,
      "outputs": [
        {
          "output_type": "execute_result",
          "data": {
            "text/plain": [
              "0    3519\n",
              "1    2793\n",
              "2     689\n",
              "Name: Insect, dtype: int64"
            ]
          },
          "metadata": {},
          "execution_count": 65
        }
      ]
    },
    {
      "cell_type": "code",
      "source": [
        "raw.dtypes\n",
        "data = raw.copy()\n",
        "data['Time'] = data['Hour']+ (data['Minutes']/60)"
      ],
      "metadata": {
        "id": "AA6v8JU5wFQ8"
      },
      "execution_count": 66,
      "outputs": []
    },
    {
      "cell_type": "code",
      "source": [
        "data = data[ ['Time'] + [ col for col in data.columns if col != 'Time' ] ]\n",
        "data.head()"
      ],
      "metadata": {
        "colab": {
          "base_uri": "https://localhost:8080/",
          "height": 206
        },
        "id": "J8SM81icwsSW",
        "outputId": "472dbb39-40d1-47a3-9041-bf5aab2c310f"
      },
      "execution_count": 67,
      "outputs": [
        {
          "output_type": "execute_result",
          "data": {
            "text/plain": [
              "        Time  Unnamed: 0  Hour  Minutes  Sensor_alpha  Sensor_beta  \\\n",
              "0  22.433333           0    22       26    119.910995   242.838324   \n",
              "1  10.266667           1    10       16    -90.790536  -269.470767   \n",
              "2  21.700000           2    21       42    -20.028003  -147.070212   \n",
              "3  21.283333           3    21       17    -21.258567     0.467070   \n",
              "4  18.266667           4    18       16    -58.154501   -13.051195   \n",
              "\n",
              "   Sensor_gamma  Sensor_alpha_plus  Sensor_beta_plus  Sensor_gamma_plus  \\\n",
              "0   -316.819222         250.195048        -53.547777        -112.049983   \n",
              "1   -182.581844          95.394941         37.291944          48.525180   \n",
              "2     50.280872         -90.750386        -50.476556          85.399009   \n",
              "3    -86.164153         -21.813529       -209.256006          16.291882   \n",
              "4   -156.501167          48.392938       -110.008860         -10.285138   \n",
              "\n",
              "   Insect  \n",
              "0       2  \n",
              "1       0  \n",
              "2       1  \n",
              "3       0  \n",
              "4       2  "
            ],
            "text/html": [
              "\n",
              "  <div id=\"df-ac76ee01-080f-4e81-b6bf-02c95309ac94\">\n",
              "    <div class=\"colab-df-container\">\n",
              "      <div>\n",
              "<style scoped>\n",
              "    .dataframe tbody tr th:only-of-type {\n",
              "        vertical-align: middle;\n",
              "    }\n",
              "\n",
              "    .dataframe tbody tr th {\n",
              "        vertical-align: top;\n",
              "    }\n",
              "\n",
              "    .dataframe thead th {\n",
              "        text-align: right;\n",
              "    }\n",
              "</style>\n",
              "<table border=\"1\" class=\"dataframe\">\n",
              "  <thead>\n",
              "    <tr style=\"text-align: right;\">\n",
              "      <th></th>\n",
              "      <th>Time</th>\n",
              "      <th>Unnamed: 0</th>\n",
              "      <th>Hour</th>\n",
              "      <th>Minutes</th>\n",
              "      <th>Sensor_alpha</th>\n",
              "      <th>Sensor_beta</th>\n",
              "      <th>Sensor_gamma</th>\n",
              "      <th>Sensor_alpha_plus</th>\n",
              "      <th>Sensor_beta_plus</th>\n",
              "      <th>Sensor_gamma_plus</th>\n",
              "      <th>Insect</th>\n",
              "    </tr>\n",
              "  </thead>\n",
              "  <tbody>\n",
              "    <tr>\n",
              "      <th>0</th>\n",
              "      <td>22.433333</td>\n",
              "      <td>0</td>\n",
              "      <td>22</td>\n",
              "      <td>26</td>\n",
              "      <td>119.910995</td>\n",
              "      <td>242.838324</td>\n",
              "      <td>-316.819222</td>\n",
              "      <td>250.195048</td>\n",
              "      <td>-53.547777</td>\n",
              "      <td>-112.049983</td>\n",
              "      <td>2</td>\n",
              "    </tr>\n",
              "    <tr>\n",
              "      <th>1</th>\n",
              "      <td>10.266667</td>\n",
              "      <td>1</td>\n",
              "      <td>10</td>\n",
              "      <td>16</td>\n",
              "      <td>-90.790536</td>\n",
              "      <td>-269.470767</td>\n",
              "      <td>-182.581844</td>\n",
              "      <td>95.394941</td>\n",
              "      <td>37.291944</td>\n",
              "      <td>48.525180</td>\n",
              "      <td>0</td>\n",
              "    </tr>\n",
              "    <tr>\n",
              "      <th>2</th>\n",
              "      <td>21.700000</td>\n",
              "      <td>2</td>\n",
              "      <td>21</td>\n",
              "      <td>42</td>\n",
              "      <td>-20.028003</td>\n",
              "      <td>-147.070212</td>\n",
              "      <td>50.280872</td>\n",
              "      <td>-90.750386</td>\n",
              "      <td>-50.476556</td>\n",
              "      <td>85.399009</td>\n",
              "      <td>1</td>\n",
              "    </tr>\n",
              "    <tr>\n",
              "      <th>3</th>\n",
              "      <td>21.283333</td>\n",
              "      <td>3</td>\n",
              "      <td>21</td>\n",
              "      <td>17</td>\n",
              "      <td>-21.258567</td>\n",
              "      <td>0.467070</td>\n",
              "      <td>-86.164153</td>\n",
              "      <td>-21.813529</td>\n",
              "      <td>-209.256006</td>\n",
              "      <td>16.291882</td>\n",
              "      <td>0</td>\n",
              "    </tr>\n",
              "    <tr>\n",
              "      <th>4</th>\n",
              "      <td>18.266667</td>\n",
              "      <td>4</td>\n",
              "      <td>18</td>\n",
              "      <td>16</td>\n",
              "      <td>-58.154501</td>\n",
              "      <td>-13.051195</td>\n",
              "      <td>-156.501167</td>\n",
              "      <td>48.392938</td>\n",
              "      <td>-110.008860</td>\n",
              "      <td>-10.285138</td>\n",
              "      <td>2</td>\n",
              "    </tr>\n",
              "  </tbody>\n",
              "</table>\n",
              "</div>\n",
              "      <button class=\"colab-df-convert\" onclick=\"convertToInteractive('df-ac76ee01-080f-4e81-b6bf-02c95309ac94')\"\n",
              "              title=\"Convert this dataframe to an interactive table.\"\n",
              "              style=\"display:none;\">\n",
              "        \n",
              "  <svg xmlns=\"http://www.w3.org/2000/svg\" height=\"24px\"viewBox=\"0 0 24 24\"\n",
              "       width=\"24px\">\n",
              "    <path d=\"M0 0h24v24H0V0z\" fill=\"none\"/>\n",
              "    <path d=\"M18.56 5.44l.94 2.06.94-2.06 2.06-.94-2.06-.94-.94-2.06-.94 2.06-2.06.94zm-11 1L8.5 8.5l.94-2.06 2.06-.94-2.06-.94L8.5 2.5l-.94 2.06-2.06.94zm10 10l.94 2.06.94-2.06 2.06-.94-2.06-.94-.94-2.06-.94 2.06-2.06.94z\"/><path d=\"M17.41 7.96l-1.37-1.37c-.4-.4-.92-.59-1.43-.59-.52 0-1.04.2-1.43.59L10.3 9.45l-7.72 7.72c-.78.78-.78 2.05 0 2.83L4 21.41c.39.39.9.59 1.41.59.51 0 1.02-.2 1.41-.59l7.78-7.78 2.81-2.81c.8-.78.8-2.07 0-2.86zM5.41 20L4 18.59l7.72-7.72 1.47 1.35L5.41 20z\"/>\n",
              "  </svg>\n",
              "      </button>\n",
              "      \n",
              "  <style>\n",
              "    .colab-df-container {\n",
              "      display:flex;\n",
              "      flex-wrap:wrap;\n",
              "      gap: 12px;\n",
              "    }\n",
              "\n",
              "    .colab-df-convert {\n",
              "      background-color: #E8F0FE;\n",
              "      border: none;\n",
              "      border-radius: 50%;\n",
              "      cursor: pointer;\n",
              "      display: none;\n",
              "      fill: #1967D2;\n",
              "      height: 32px;\n",
              "      padding: 0 0 0 0;\n",
              "      width: 32px;\n",
              "    }\n",
              "\n",
              "    .colab-df-convert:hover {\n",
              "      background-color: #E2EBFA;\n",
              "      box-shadow: 0px 1px 2px rgba(60, 64, 67, 0.3), 0px 1px 3px 1px rgba(60, 64, 67, 0.15);\n",
              "      fill: #174EA6;\n",
              "    }\n",
              "\n",
              "    [theme=dark] .colab-df-convert {\n",
              "      background-color: #3B4455;\n",
              "      fill: #D2E3FC;\n",
              "    }\n",
              "\n",
              "    [theme=dark] .colab-df-convert:hover {\n",
              "      background-color: #434B5C;\n",
              "      box-shadow: 0px 1px 3px 1px rgba(0, 0, 0, 0.15);\n",
              "      filter: drop-shadow(0px 1px 2px rgba(0, 0, 0, 0.3));\n",
              "      fill: #FFFFFF;\n",
              "    }\n",
              "  </style>\n",
              "\n",
              "      <script>\n",
              "        const buttonEl =\n",
              "          document.querySelector('#df-ac76ee01-080f-4e81-b6bf-02c95309ac94 button.colab-df-convert');\n",
              "        buttonEl.style.display =\n",
              "          google.colab.kernel.accessAllowed ? 'block' : 'none';\n",
              "\n",
              "        async function convertToInteractive(key) {\n",
              "          const element = document.querySelector('#df-ac76ee01-080f-4e81-b6bf-02c95309ac94');\n",
              "          const dataTable =\n",
              "            await google.colab.kernel.invokeFunction('convertToInteractive',\n",
              "                                                     [key], {});\n",
              "          if (!dataTable) return;\n",
              "\n",
              "          const docLinkHtml = 'Like what you see? Visit the ' +\n",
              "            '<a target=\"_blank\" href=https://colab.research.google.com/notebooks/data_table.ipynb>data table notebook</a>'\n",
              "            + ' to learn more about interactive tables.';\n",
              "          element.innerHTML = '';\n",
              "          dataTable['output_type'] = 'display_data';\n",
              "          await google.colab.output.renderOutput(dataTable, element);\n",
              "          const docLink = document.createElement('div');\n",
              "          docLink.innerHTML = docLinkHtml;\n",
              "          element.appendChild(docLink);\n",
              "        }\n",
              "      </script>\n",
              "    </div>\n",
              "  </div>\n",
              "  "
            ]
          },
          "metadata": {},
          "execution_count": 67
        }
      ]
    },
    {
      "cell_type": "code",
      "source": [
        "data = data.drop('Unnamed: 0', axis = 1)\n",
        "data = data.drop('Hour', axis = 1)\n",
        "data = data.drop('Minutes', axis = 1)"
      ],
      "metadata": {
        "id": "Tf0XewfCvqyh"
      },
      "execution_count": 68,
      "outputs": []
    },
    {
      "cell_type": "code",
      "source": [
        "data.head()"
      ],
      "metadata": {
        "colab": {
          "base_uri": "https://localhost:8080/",
          "height": 206
        },
        "id": "bzU3-8TcwLSN",
        "outputId": "e0b36169-292e-49ee-ee6e-1dfbdbbd4b99"
      },
      "execution_count": 69,
      "outputs": [
        {
          "output_type": "execute_result",
          "data": {
            "text/plain": [
              "        Time  Sensor_alpha  Sensor_beta  Sensor_gamma  Sensor_alpha_plus  \\\n",
              "0  22.433333    119.910995   242.838324   -316.819222         250.195048   \n",
              "1  10.266667    -90.790536  -269.470767   -182.581844          95.394941   \n",
              "2  21.700000    -20.028003  -147.070212     50.280872         -90.750386   \n",
              "3  21.283333    -21.258567     0.467070    -86.164153         -21.813529   \n",
              "4  18.266667    -58.154501   -13.051195   -156.501167          48.392938   \n",
              "\n",
              "   Sensor_beta_plus  Sensor_gamma_plus  Insect  \n",
              "0        -53.547777        -112.049983       2  \n",
              "1         37.291944          48.525180       0  \n",
              "2        -50.476556          85.399009       1  \n",
              "3       -209.256006          16.291882       0  \n",
              "4       -110.008860         -10.285138       2  "
            ],
            "text/html": [
              "\n",
              "  <div id=\"df-0047f34c-ea62-4216-885b-40a3f5a62434\">\n",
              "    <div class=\"colab-df-container\">\n",
              "      <div>\n",
              "<style scoped>\n",
              "    .dataframe tbody tr th:only-of-type {\n",
              "        vertical-align: middle;\n",
              "    }\n",
              "\n",
              "    .dataframe tbody tr th {\n",
              "        vertical-align: top;\n",
              "    }\n",
              "\n",
              "    .dataframe thead th {\n",
              "        text-align: right;\n",
              "    }\n",
              "</style>\n",
              "<table border=\"1\" class=\"dataframe\">\n",
              "  <thead>\n",
              "    <tr style=\"text-align: right;\">\n",
              "      <th></th>\n",
              "      <th>Time</th>\n",
              "      <th>Sensor_alpha</th>\n",
              "      <th>Sensor_beta</th>\n",
              "      <th>Sensor_gamma</th>\n",
              "      <th>Sensor_alpha_plus</th>\n",
              "      <th>Sensor_beta_plus</th>\n",
              "      <th>Sensor_gamma_plus</th>\n",
              "      <th>Insect</th>\n",
              "    </tr>\n",
              "  </thead>\n",
              "  <tbody>\n",
              "    <tr>\n",
              "      <th>0</th>\n",
              "      <td>22.433333</td>\n",
              "      <td>119.910995</td>\n",
              "      <td>242.838324</td>\n",
              "      <td>-316.819222</td>\n",
              "      <td>250.195048</td>\n",
              "      <td>-53.547777</td>\n",
              "      <td>-112.049983</td>\n",
              "      <td>2</td>\n",
              "    </tr>\n",
              "    <tr>\n",
              "      <th>1</th>\n",
              "      <td>10.266667</td>\n",
              "      <td>-90.790536</td>\n",
              "      <td>-269.470767</td>\n",
              "      <td>-182.581844</td>\n",
              "      <td>95.394941</td>\n",
              "      <td>37.291944</td>\n",
              "      <td>48.525180</td>\n",
              "      <td>0</td>\n",
              "    </tr>\n",
              "    <tr>\n",
              "      <th>2</th>\n",
              "      <td>21.700000</td>\n",
              "      <td>-20.028003</td>\n",
              "      <td>-147.070212</td>\n",
              "      <td>50.280872</td>\n",
              "      <td>-90.750386</td>\n",
              "      <td>-50.476556</td>\n",
              "      <td>85.399009</td>\n",
              "      <td>1</td>\n",
              "    </tr>\n",
              "    <tr>\n",
              "      <th>3</th>\n",
              "      <td>21.283333</td>\n",
              "      <td>-21.258567</td>\n",
              "      <td>0.467070</td>\n",
              "      <td>-86.164153</td>\n",
              "      <td>-21.813529</td>\n",
              "      <td>-209.256006</td>\n",
              "      <td>16.291882</td>\n",
              "      <td>0</td>\n",
              "    </tr>\n",
              "    <tr>\n",
              "      <th>4</th>\n",
              "      <td>18.266667</td>\n",
              "      <td>-58.154501</td>\n",
              "      <td>-13.051195</td>\n",
              "      <td>-156.501167</td>\n",
              "      <td>48.392938</td>\n",
              "      <td>-110.008860</td>\n",
              "      <td>-10.285138</td>\n",
              "      <td>2</td>\n",
              "    </tr>\n",
              "  </tbody>\n",
              "</table>\n",
              "</div>\n",
              "      <button class=\"colab-df-convert\" onclick=\"convertToInteractive('df-0047f34c-ea62-4216-885b-40a3f5a62434')\"\n",
              "              title=\"Convert this dataframe to an interactive table.\"\n",
              "              style=\"display:none;\">\n",
              "        \n",
              "  <svg xmlns=\"http://www.w3.org/2000/svg\" height=\"24px\"viewBox=\"0 0 24 24\"\n",
              "       width=\"24px\">\n",
              "    <path d=\"M0 0h24v24H0V0z\" fill=\"none\"/>\n",
              "    <path d=\"M18.56 5.44l.94 2.06.94-2.06 2.06-.94-2.06-.94-.94-2.06-.94 2.06-2.06.94zm-11 1L8.5 8.5l.94-2.06 2.06-.94-2.06-.94L8.5 2.5l-.94 2.06-2.06.94zm10 10l.94 2.06.94-2.06 2.06-.94-2.06-.94-.94-2.06-.94 2.06-2.06.94z\"/><path d=\"M17.41 7.96l-1.37-1.37c-.4-.4-.92-.59-1.43-.59-.52 0-1.04.2-1.43.59L10.3 9.45l-7.72 7.72c-.78.78-.78 2.05 0 2.83L4 21.41c.39.39.9.59 1.41.59.51 0 1.02-.2 1.41-.59l7.78-7.78 2.81-2.81c.8-.78.8-2.07 0-2.86zM5.41 20L4 18.59l7.72-7.72 1.47 1.35L5.41 20z\"/>\n",
              "  </svg>\n",
              "      </button>\n",
              "      \n",
              "  <style>\n",
              "    .colab-df-container {\n",
              "      display:flex;\n",
              "      flex-wrap:wrap;\n",
              "      gap: 12px;\n",
              "    }\n",
              "\n",
              "    .colab-df-convert {\n",
              "      background-color: #E8F0FE;\n",
              "      border: none;\n",
              "      border-radius: 50%;\n",
              "      cursor: pointer;\n",
              "      display: none;\n",
              "      fill: #1967D2;\n",
              "      height: 32px;\n",
              "      padding: 0 0 0 0;\n",
              "      width: 32px;\n",
              "    }\n",
              "\n",
              "    .colab-df-convert:hover {\n",
              "      background-color: #E2EBFA;\n",
              "      box-shadow: 0px 1px 2px rgba(60, 64, 67, 0.3), 0px 1px 3px 1px rgba(60, 64, 67, 0.15);\n",
              "      fill: #174EA6;\n",
              "    }\n",
              "\n",
              "    [theme=dark] .colab-df-convert {\n",
              "      background-color: #3B4455;\n",
              "      fill: #D2E3FC;\n",
              "    }\n",
              "\n",
              "    [theme=dark] .colab-df-convert:hover {\n",
              "      background-color: #434B5C;\n",
              "      box-shadow: 0px 1px 3px 1px rgba(0, 0, 0, 0.15);\n",
              "      filter: drop-shadow(0px 1px 2px rgba(0, 0, 0, 0.3));\n",
              "      fill: #FFFFFF;\n",
              "    }\n",
              "  </style>\n",
              "\n",
              "      <script>\n",
              "        const buttonEl =\n",
              "          document.querySelector('#df-0047f34c-ea62-4216-885b-40a3f5a62434 button.colab-df-convert');\n",
              "        buttonEl.style.display =\n",
              "          google.colab.kernel.accessAllowed ? 'block' : 'none';\n",
              "\n",
              "        async function convertToInteractive(key) {\n",
              "          const element = document.querySelector('#df-0047f34c-ea62-4216-885b-40a3f5a62434');\n",
              "          const dataTable =\n",
              "            await google.colab.kernel.invokeFunction('convertToInteractive',\n",
              "                                                     [key], {});\n",
              "          if (!dataTable) return;\n",
              "\n",
              "          const docLinkHtml = 'Like what you see? Visit the ' +\n",
              "            '<a target=\"_blank\" href=https://colab.research.google.com/notebooks/data_table.ipynb>data table notebook</a>'\n",
              "            + ' to learn more about interactive tables.';\n",
              "          element.innerHTML = '';\n",
              "          dataTable['output_type'] = 'display_data';\n",
              "          await google.colab.output.renderOutput(dataTable, element);\n",
              "          const docLink = document.createElement('div');\n",
              "          docLink.innerHTML = docLinkHtml;\n",
              "          element.appendChild(docLink);\n",
              "        }\n",
              "      </script>\n",
              "    </div>\n",
              "  </div>\n",
              "  "
            ]
          },
          "metadata": {},
          "execution_count": 69
        }
      ]
    },
    {
      "cell_type": "code",
      "source": [
        "data.dtypes"
      ],
      "metadata": {
        "colab": {
          "base_uri": "https://localhost:8080/"
        },
        "id": "jzPO7tIpxkmB",
        "outputId": "7556cc35-7965-469f-998c-9c55a845d225"
      },
      "execution_count": 72,
      "outputs": [
        {
          "output_type": "execute_result",
          "data": {
            "text/plain": [
              "Time                 float64\n",
              "Sensor_alpha         float64\n",
              "Sensor_beta          float64\n",
              "Sensor_gamma         float64\n",
              "Sensor_alpha_plus    float64\n",
              "Sensor_beta_plus     float64\n",
              "Sensor_gamma_plus    float64\n",
              "Insect                 int64\n",
              "dtype: object"
            ]
          },
          "metadata": {},
          "execution_count": 72
        }
      ]
    },
    {
      "cell_type": "code",
      "source": [
        "import matplotlib.pyplot as plt\n",
        "\n",
        "figure, axes = plt.subplots(3, 2, sharex=True, figsize=(20,15))\n",
        "figure.suptitle('Distribución de los datos de sensores')\n",
        "sns.set_style(\"darkgrid\")\n",
        "sns.histplot(ax=axes[0, 0], data = data.Sensor_alpha).set(title = 'Sensor_alpha')\n",
        "sns.histplot(ax=axes[0, 1], data = data.Sensor_beta).set(title = 'Sensor_beta')\n",
        "sns.histplot(ax=axes[1, 0], data = data.Sensor_gamma).set(title = 'Sensor_gamma')\n",
        "sns.histplot(ax=axes[1, 1], data = data.Sensor_alpha_plus).set(title = 'Sensor_alpha_plus')\n",
        "sns.histplot(ax=axes[2, 0], data = data.Sensor_beta_plus).set(title = 'Sensor_beta_plus')\n",
        "sns.histplot(ax=axes[2, 1], data = data.Sensor_gamma_plus).set(title = 'Sensor_gamma_plus')"
      ],
      "metadata": {
        "colab": {
          "base_uri": "https://localhost:8080/",
          "height": 1000
        },
        "id": "rhCFqHJUzmnE",
        "outputId": "960aab51-0e48-422d-c3ca-71ee2cd9a60a"
      },
      "execution_count": 101,
      "outputs": [
        {
          "output_type": "execute_result",
          "data": {
            "text/plain": [
              "[Text(0.5, 1.0, 'Sensor_gamma_plus')]"
            ]
          },
          "metadata": {},
          "execution_count": 101
        },
        {
          "output_type": "display_data",
          "data": {
            "text/plain": [
              "<Figure size 1440x1080 with 6 Axes>"
            ],
            "image/png": "[encoded data removed]"
          },
          "metadata": {}
        }
      ]
    },
    {
      "cell_type": "code",
      "source": [
        "import seaborn as sns\n",
        "\n",
        "sns.distplot(data.Time)"
      ],
      "metadata": {
        "colab": {
          "base_uri": "https://localhost:8080/",
          "height": 354
        },
        "id": "ggB0BdYRxsCM",
        "outputId": "c667832b-b951-4c86-acab-68ec6dea221c"
      },
      "execution_count": 106,
      "outputs": [
        {
          "output_type": "stream",
          "name": "stderr",
          "text": [
            "/usr/local/lib/python3.7/dist-packages/seaborn/distributions.py:2619: FutureWarning: `distplot` is a deprecated function and will be removed in a future version. Please adapt your code to use either `displot` (a figure-level function with similar flexibility) or `histplot` (an axes-level function for histograms).\n",
            "  warnings.warn(msg, FutureWarning)\n"
          ]
        },
        {
          "output_type": "execute_result",
          "data": {
            "text/plain": [
              "<matplotlib.axes._subplots.AxesSubplot at 0x7f4eed2fe0d0>"
            ]
          },
          "metadata": {},
          "execution_count": 106
        },
        {
          "output_type": "display_data",
          "data": {
            "text/plain": [
              "<Figure size 432x288 with 1 Axes>"
            ],
            "image/png": "[encoded data removed]"
          },
          "metadata": {}
        }
      ]
    },
    {
      "cell_type": "code",
      "source": [
        "data.Insect.value_counts().index"
      ],
      "metadata": {
        "colab": {
          "base_uri": "https://localhost:8080/"
        },
        "id": "COyGmxgB4gKC",
        "outputId": "9773d4e3-bbf2-46c9-9d7f-98361068c6fc"
      },
      "execution_count": 112,
      "outputs": [
        {
          "output_type": "execute_result",
          "data": {
            "text/plain": [
              "Int64Index([0, 1, 2], dtype='int64')"
            ]
          },
          "metadata": {},
          "execution_count": 112
        }
      ]
    },
    {
      "cell_type": "code",
      "source": [
        "plt.title('% de datos de la clase objetivo Insect')\n",
        "plt.pie(data.Insect.value_counts().values, labels = data.Insect.value_counts().index, colors = sns.color_palette('bright'), autopct = '%0.0f%%')\n",
        "plt.show()"
      ],
      "metadata": {
        "colab": {
          "base_uri": "https://localhost:8080/",
          "height": 264
        },
        "id": "4MQzFoo6x9bj",
        "outputId": "efd6e939-6950-4825-c9af-023480c3e24d"
      },
      "execution_count": 116,
      "outputs": [
        {
          "output_type": "display_data",
          "data": {
            "text/plain": [
              "<Figure size 432x288 with 1 Axes>"
            ],
            "image/png": "[encoded data removed]"
          },
          "metadata": {}
        }
      ]
    },
    {
      "cell_type": "code",
      "source": [
        "data.corr()"
      ],
      "metadata": {
        "colab": {
          "base_uri": "https://localhost:8080/",
          "height": 300
        },
        "id": "Ygvdi3PSwIRV",
        "outputId": "9eb6c5bc-e6f7-4779-d75c-9da00f5f1d60"
      },
      "execution_count": 70,
      "outputs": [
        {
          "output_type": "execute_result",
          "data": {
            "text/plain": [
              "                       Time  Sensor_alpha  Sensor_beta  Sensor_gamma  \\\n",
              "Time               1.000000     -0.004867     0.050913      0.010236   \n",
              "Sensor_alpha      -0.004867      1.000000     0.022326      0.006586   \n",
              "Sensor_beta        0.050913      0.022326     1.000000      0.104676   \n",
              "Sensor_gamma       0.010236      0.006586     0.104676      1.000000   \n",
              "Sensor_alpha_plus -0.069420     -0.018265    -0.512785     -0.005966   \n",
              "Sensor_beta_plus  -0.011717      0.017574     0.010635      0.018890   \n",
              "Sensor_gamma_plus  0.001987      0.004248    -0.022064      0.000970   \n",
              "Insect             0.084049      0.008430     0.366754     -0.121449   \n",
              "\n",
              "                   Sensor_alpha_plus  Sensor_beta_plus  Sensor_gamma_plus  \\\n",
              "Time                       -0.069420         -0.011717           0.001987   \n",
              "Sensor_alpha               -0.018265          0.017574           0.004248   \n",
              "Sensor_beta                -0.512785          0.010635          -0.022064   \n",
              "Sensor_gamma               -0.005966          0.018890           0.000970   \n",
              "Sensor_alpha_plus           1.000000         -0.006376           0.015937   \n",
              "Sensor_beta_plus           -0.006376          1.000000           0.017376   \n",
              "Sensor_gamma_plus           0.015937          0.017376           1.000000   \n",
              "Insect                     -0.397456          0.000202          -0.001430   \n",
              "\n",
              "                     Insect  \n",
              "Time               0.084049  \n",
              "Sensor_alpha       0.008430  \n",
              "Sensor_beta        0.366754  \n",
              "Sensor_gamma      -0.121449  \n",
              "Sensor_alpha_plus -0.397456  \n",
              "Sensor_beta_plus   0.000202  \n",
              "Sensor_gamma_plus -0.001430  \n",
              "Insect             1.000000  "
            ],
            "text/html": [
              "\n",
              "  <div id=\"df-af88b1af-3a0b-449e-9b8d-d327e5c178a6\">\n",
              "    <div class=\"colab-df-container\">\n",
              "      <div>\n",
              "<style scoped>\n",
              "    .dataframe tbody tr th:only-of-type {\n",
              "        vertical-align: middle;\n",
              "    }\n",
              "\n",
              "    .dataframe tbody tr th {\n",
              "        vertical-align: top;\n",
              "    }\n",
              "\n",
              "    .dataframe thead th {\n",
              "        text-align: right;\n",
              "    }\n",
              "</style>\n",
              "<table border=\"1\" class=\"dataframe\">\n",
              "  <thead>\n",
              "    <tr style=\"text-align: right;\">\n",
              "      <th></th>\n",
              "      <th>Time</th>\n",
              "      <th>Sensor_alpha</th>\n",
              "      <th>Sensor_beta</th>\n",
              "      <th>Sensor_gamma</th>\n",
              "      <th>Sensor_alpha_plus</th>\n",
              "      <th>Sensor_beta_plus</th>\n",
              "      <th>Sensor_gamma_plus</th>\n",
              "      <th>Insect</th>\n",
              "    </tr>\n",
              "  </thead>\n",
              "  <tbody>\n",
              "    <tr>\n",
              "      <th>Time</th>\n",
              "      <td>1.000000</td>\n",
              "      <td>-0.004867</td>\n",
              "      <td>0.050913</td>\n",
              "      <td>0.010236</td>\n",
              "      <td>-0.069420</td>\n",
              "      <td>-0.011717</td>\n",
              "      <td>0.001987</td>\n",
              "      <td>0.084049</td>\n",
              "    </tr>\n",
              "    <tr>\n",
              "      <th>Sensor_alpha</th>\n",
              "      <td>-0.004867</td>\n",
              "      <td>1.000000</td>\n",
              "      <td>0.022326</td>\n",
              "      <td>0.006586</td>\n",
              "      <td>-0.018265</td>\n",
              "      <td>0.017574</td>\n",
              "      <td>0.004248</td>\n",
              "      <td>0.008430</td>\n",
              "    </tr>\n",
              "    <tr>\n",
              "      <th>Sensor_beta</th>\n",
              "      <td>0.050913</td>\n",
              "      <td>0.022326</td>\n",
              "      <td>1.000000</td>\n",
              "      <td>0.104676</td>\n",
              "      <td>-0.512785</td>\n",
              "      <td>0.010635</td>\n",
              "      <td>-0.022064</td>\n",
              "      <td>0.366754</td>\n",
              "    </tr>\n",
              "    <tr>\n",
              "      <th>Sensor_gamma</th>\n",
              "      <td>0.010236</td>\n",
              "      <td>0.006586</td>\n",
              "      <td>0.104676</td>\n",
              "      <td>1.000000</td>\n",
              "      <td>-0.005966</td>\n",
              "      <td>0.018890</td>\n",
              "      <td>0.000970</td>\n",
              "      <td>-0.121449</td>\n",
              "    </tr>\n",
              "    <tr>\n",
              "      <th>Sensor_alpha_plus</th>\n",
              "      <td>-0.069420</td>\n",
              "      <td>-0.018265</td>\n",
              "      <td>-0.512785</td>\n",
              "      <td>-0.005966</td>\n",
              "      <td>1.000000</td>\n",
              "      <td>-0.006376</td>\n",
              "      <td>0.015937</td>\n",
              "      <td>-0.397456</td>\n",
              "    </tr>\n",
              "    <tr>\n",
              "      <th>Sensor_beta_plus</th>\n",
              "      <td>-0.011717</td>\n",
              "      <td>0.017574</td>\n",
              "      <td>0.010635</td>\n",
              "      <td>0.018890</td>\n",
              "      <td>-0.006376</td>\n",
              "      <td>1.000000</td>\n",
              "      <td>0.017376</td>\n",
              "      <td>0.000202</td>\n",
              "    </tr>\n",
              "    <tr>\n",
              "      <th>Sensor_gamma_plus</th>\n",
              "      <td>0.001987</td>\n",
              "      <td>0.004248</td>\n",
              "      <td>-0.022064</td>\n",
              "      <td>0.000970</td>\n",
              "      <td>0.015937</td>\n",
              "      <td>0.017376</td>\n",
              "      <td>1.000000</td>\n",
              "      <td>-0.001430</td>\n",
              "    </tr>\n",
              "    <tr>\n",
              "      <th>Insect</th>\n",
              "      <td>0.084049</td>\n",
              "      <td>0.008430</td>\n",
              "      <td>0.366754</td>\n",
              "      <td>-0.121449</td>\n",
              "      <td>-0.397456</td>\n",
              "      <td>0.000202</td>\n",
              "      <td>-0.001430</td>\n",
              "      <td>1.000000</td>\n",
              "    </tr>\n",
              "  </tbody>\n",
              "</table>\n",
              "</div>\n",
              "      <button class=\"colab-df-convert\" onclick=\"convertToInteractive('df-af88b1af-3a0b-449e-9b8d-d327e5c178a6')\"\n",
              "              title=\"Convert this dataframe to an interactive table.\"\n",
              "              style=\"display:none;\">\n",
              "        \n",
              "  <svg xmlns=\"http://www.w3.org/2000/svg\" height=\"24px\"viewBox=\"0 0 24 24\"\n",
              "       width=\"24px\">\n",
              "    <path d=\"M0 0h24v24H0V0z\" fill=\"none\"/>\n",
              "    <path d=\"M18.56 5.44l.94 2.06.94-2.06 2.06-.94-2.06-.94-.94-2.06-.94 2.06-2.06.94zm-11 1L8.5 8.5l.94-2.06 2.06-.94-2.06-.94L8.5 2.5l-.94 2.06-2.06.94zm10 10l.94 2.06.94-2.06 2.06-.94-2.06-.94-.94-2.06-.94 2.06-2.06.94z\"/><path d=\"M17.41 7.96l-1.37-1.37c-.4-.4-.92-.59-1.43-.59-.52 0-1.04.2-1.43.59L10.3 9.45l-7.72 7.72c-.78.78-.78 2.05 0 2.83L4 21.41c.39.39.9.59 1.41.59.51 0 1.02-.2 1.41-.59l7.78-7.78 2.81-2.81c.8-.78.8-2.07 0-2.86zM5.41 20L4 18.59l7.72-7.72 1.47 1.35L5.41 20z\"/>\n",
              "  </svg>\n",
              "      </button>\n",
              "      \n",
              "  <style>\n",
              "    .colab-df-container {\n",
              "      display:flex;\n",
              "      flex-wrap:wrap;\n",
              "      gap: 12px;\n",
              "    }\n",
              "\n",
              "    .colab-df-convert {\n",
              "      background-color: #E8F0FE;\n",
              "      border: none;\n",
              "      border-radius: 50%;\n",
              "      cursor: pointer;\n",
              "      display: none;\n",
              "      fill: #1967D2;\n",
              "      height: 32px;\n",
              "      padding: 0 0 0 0;\n",
              "      width: 32px;\n",
              "    }\n",
              "\n",
              "    .colab-df-convert:hover {\n",
              "      background-color: #E2EBFA;\n",
              "      box-shadow: 0px 1px 2px rgba(60, 64, 67, 0.3), 0px 1px 3px 1px rgba(60, 64, 67, 0.15);\n",
              "      fill: #174EA6;\n",
              "    }\n",
              "\n",
              "    [theme=dark] .colab-df-convert {\n",
              "      background-color: #3B4455;\n",
              "      fill: #D2E3FC;\n",
              "    }\n",
              "\n",
              "    [theme=dark] .colab-df-convert:hover {\n",
              "      background-color: #434B5C;\n",
              "      box-shadow: 0px 1px 3px 1px rgba(0, 0, 0, 0.15);\n",
              "      filter: drop-shadow(0px 1px 2px rgba(0, 0, 0, 0.3));\n",
              "      fill: #FFFFFF;\n",
              "    }\n",
              "  </style>\n",
              "\n",
              "      <script>\n",
              "        const buttonEl =\n",
              "          document.querySelector('#df-af88b1af-3a0b-449e-9b8d-d327e5c178a6 button.colab-df-convert');\n",
              "        buttonEl.style.display =\n",
              "          google.colab.kernel.accessAllowed ? 'block' : 'none';\n",
              "\n",
              "        async function convertToInteractive(key) {\n",
              "          const element = document.querySelector('#df-af88b1af-3a0b-449e-9b8d-d327e5c178a6');\n",
              "          const dataTable =\n",
              "            await google.colab.kernel.invokeFunction('convertToInteractive',\n",
              "                                                     [key], {});\n",
              "          if (!dataTable) return;\n",
              "\n",
              "          const docLinkHtml = 'Like what you see? Visit the ' +\n",
              "            '<a target=\"_blank\" href=https://colab.research.google.com/notebooks/data_table.ipynb>data table notebook</a>'\n",
              "            + ' to learn more about interactive tables.';\n",
              "          element.innerHTML = '';\n",
              "          dataTable['output_type'] = 'display_data';\n",
              "          await google.colab.output.renderOutput(dataTable, element);\n",
              "          const docLink = document.createElement('div');\n",
              "          docLink.innerHTML = docLinkHtml;\n",
              "          element.appendChild(docLink);\n",
              "        }\n",
              "      </script>\n",
              "    </div>\n",
              "  </div>\n",
              "  "
            ]
          },
          "metadata": {},
          "execution_count": 70
        }
      ]
    },
    {
      "cell_type": "markdown",
      "source": [
        "## Transformación y selección de Features"
      ],
      "metadata": {
        "id": "Fjq5NhK951Op"
      }
    },
    {
      "cell_type": "code",
      "source": [
        "y = data['Insect']\n",
        "X = data.drop(['Insect'], axis = 1)\n"
      ],
      "metadata": {
        "id": "I78Yom6m59l6"
      },
      "execution_count": 118,
      "outputs": []
    },
    {
      "cell_type": "code",
      "source": [
        "X_train, X_test, y_train, y_test = train_test_split(X, y, test_size=0.3, random_state=123)\n",
        "X_train.shape, X_test.shape, y_train.shape, y_test.shape"
      ],
      "metadata": {
        "colab": {
          "base_uri": "https://localhost:8080/"
        },
        "id": "q4X8VrkExsIg",
        "outputId": "2bcae476-7316-4896-c659-c5575303b64f"
      },
      "execution_count": 122,
      "outputs": [
        {
          "output_type": "execute_result",
          "data": {
            "text/plain": [
              "((4900, 7), (2101, 7), (4900,), (2101,))"
            ]
          },
          "metadata": {},
          "execution_count": 122
        }
      ]
    },
    {
      "cell_type": "code",
      "source": [
        "X_train.head()"
      ],
      "metadata": {
        "colab": {
          "base_uri": "https://localhost:8080/",
          "height": 206
        },
        "id": "I2e25aMLaiCi",
        "outputId": "845579a4-a48f-4543-aa40-dbeeb4d25111"
      },
      "execution_count": 123,
      "outputs": [
        {
          "output_type": "execute_result",
          "data": {
            "text/plain": [
              "           Time  Sensor_alpha  Sensor_beta  Sensor_gamma  Sensor_alpha_plus  \\\n",
              "1139  19.000000    116.209884  -322.172559   -210.735465         165.390416   \n",
              "5666  21.983333     27.176290   -64.055675    -61.339867        -105.866894   \n",
              "5824  22.350000     42.446730    25.811784    -54.292620          99.382971   \n",
              "4467  21.633333   -206.838365    40.758073     74.271762         -41.102090   \n",
              "2413  20.316667   -148.747072     6.395399    114.805635         184.579163   \n",
              "\n",
              "      Sensor_beta_plus  Sensor_gamma_plus  \n",
              "1139         30.802344         148.579912  \n",
              "5666        -49.402872         190.438821  \n",
              "5824         28.343229         -32.503470  \n",
              "4467        -70.246019          57.511765  \n",
              "2413       -185.155832         -49.361459  "
            ],
            "text/html": [
              "\n",
              "  <div id=\"df-3adc73a5-52dc-46c6-b2c8-623e5d72ce11\">\n",
              "    <div class=\"colab-df-container\">\n",
              "      <div>\n",
              "<style scoped>\n",
              "    .dataframe tbody tr th:only-of-type {\n",
              "        vertical-align: middle;\n",
              "    }\n",
              "\n",
              "    .dataframe tbody tr th {\n",
              "        vertical-align: top;\n",
              "    }\n",
              "\n",
              "    .dataframe thead th {\n",
              "        text-align: right;\n",
              "    }\n",
              "</style>\n",
              "<table border=\"1\" class=\"dataframe\">\n",
              "  <thead>\n",
              "    <tr style=\"text-align: right;\">\n",
              "      <th></th>\n",
              "      <th>Time</th>\n",
              "      <th>Sensor_alpha</th>\n",
              "      <th>Sensor_beta</th>\n",
              "      <th>Sensor_gamma</th>\n",
              "      <th>Sensor_alpha_plus</th>\n",
              "      <th>Sensor_beta_plus</th>\n",
              "      <th>Sensor_gamma_plus</th>\n",
              "    </tr>\n",
              "  </thead>\n",
              "  <tbody>\n",
              "    <tr>\n",
              "      <th>1139</th>\n",
              "      <td>19.000000</td>\n",
              "      <td>116.209884</td>\n",
              "      <td>-322.172559</td>\n",
              "      <td>-210.735465</td>\n",
              "      <td>165.390416</td>\n",
              "      <td>30.802344</td>\n",
              "      <td>148.579912</td>\n",
              "    </tr>\n",
              "    <tr>\n",
              "      <th>5666</th>\n",
              "      <td>21.983333</td>\n",
              "      <td>27.176290</td>\n",
              "      <td>-64.055675</td>\n",
              "      <td>-61.339867</td>\n",
              "      <td>-105.866894</td>\n",
              "      <td>-49.402872</td>\n",
              "      <td>190.438821</td>\n",
              "    </tr>\n",
              "    <tr>\n",
              "      <th>5824</th>\n",
              "      <td>22.350000</td>\n",
              "      <td>42.446730</td>\n",
              "      <td>25.811784</td>\n",
              "      <td>-54.292620</td>\n",
              "      <td>99.382971</td>\n",
              "      <td>28.343229</td>\n",
              "      <td>-32.503470</td>\n",
              "    </tr>\n",
              "    <tr>\n",
              "      <th>4467</th>\n",
              "      <td>21.633333</td>\n",
              "      <td>-206.838365</td>\n",
              "      <td>40.758073</td>\n",
              "      <td>74.271762</td>\n",
              "      <td>-41.102090</td>\n",
              "      <td>-70.246019</td>\n",
              "      <td>57.511765</td>\n",
              "    </tr>\n",
              "    <tr>\n",
              "      <th>2413</th>\n",
              "      <td>20.316667</td>\n",
              "      <td>-148.747072</td>\n",
              "      <td>6.395399</td>\n",
              "      <td>114.805635</td>\n",
              "      <td>184.579163</td>\n",
              "      <td>-185.155832</td>\n",
              "      <td>-49.361459</td>\n",
              "    </tr>\n",
              "  </tbody>\n",
              "</table>\n",
              "</div>\n",
              "      <button class=\"colab-df-convert\" onclick=\"convertToInteractive('df-3adc73a5-52dc-46c6-b2c8-623e5d72ce11')\"\n",
              "              title=\"Convert this dataframe to an interactive table.\"\n",
              "              style=\"display:none;\">\n",
              "        \n",
              "  <svg xmlns=\"http://www.w3.org/2000/svg\" height=\"24px\"viewBox=\"0 0 24 24\"\n",
              "       width=\"24px\">\n",
              "    <path d=\"M0 0h24v24H0V0z\" fill=\"none\"/>\n",
              "    <path d=\"M18.56 5.44l.94 2.06.94-2.06 2.06-.94-2.06-.94-.94-2.06-.94 2.06-2.06.94zm-11 1L8.5 8.5l.94-2.06 2.06-.94-2.06-.94L8.5 2.5l-.94 2.06-2.06.94zm10 10l.94 2.06.94-2.06 2.06-.94-2.06-.94-.94-2.06-.94 2.06-2.06.94z\"/><path d=\"M17.41 7.96l-1.37-1.37c-.4-.4-.92-.59-1.43-.59-.52 0-1.04.2-1.43.59L10.3 9.45l-7.72 7.72c-.78.78-.78 2.05 0 2.83L4 21.41c.39.39.9.59 1.41.59.51 0 1.02-.2 1.41-.59l7.78-7.78 2.81-2.81c.8-.78.8-2.07 0-2.86zM5.41 20L4 18.59l7.72-7.72 1.47 1.35L5.41 20z\"/>\n",
              "  </svg>\n",
              "      </button>\n",
              "      \n",
              "  <style>\n",
              "    .colab-df-container {\n",
              "      display:flex;\n",
              "      flex-wrap:wrap;\n",
              "      gap: 12px;\n",
              "    }\n",
              "\n",
              "    .colab-df-convert {\n",
              "      background-color: #E8F0FE;\n",
              "      border: none;\n",
              "      border-radius: 50%;\n",
              "      cursor: pointer;\n",
              "      display: none;\n",
              "      fill: #1967D2;\n",
              "      height: 32px;\n",
              "      padding: 0 0 0 0;\n",
              "      width: 32px;\n",
              "    }\n",
              "\n",
              "    .colab-df-convert:hover {\n",
              "      background-color: #E2EBFA;\n",
              "      box-shadow: 0px 1px 2px rgba(60, 64, 67, 0.3), 0px 1px 3px 1px rgba(60, 64, 67, 0.15);\n",
              "      fill: #174EA6;\n",
              "    }\n",
              "\n",
              "    [theme=dark] .colab-df-convert {\n",
              "      background-color: #3B4455;\n",
              "      fill: #D2E3FC;\n",
              "    }\n",
              "\n",
              "    [theme=dark] .colab-df-convert:hover {\n",
              "      background-color: #434B5C;\n",
              "      box-shadow: 0px 1px 3px 1px rgba(0, 0, 0, 0.15);\n",
              "      filter: drop-shadow(0px 1px 2px rgba(0, 0, 0, 0.3));\n",
              "      fill: #FFFFFF;\n",
              "    }\n",
              "  </style>\n",
              "\n",
              "      <script>\n",
              "        const buttonEl =\n",
              "          document.querySelector('#df-3adc73a5-52dc-46c6-b2c8-623e5d72ce11 button.colab-df-convert');\n",
              "        buttonEl.style.display =\n",
              "          google.colab.kernel.accessAllowed ? 'block' : 'none';\n",
              "\n",
              "        async function convertToInteractive(key) {\n",
              "          const element = document.querySelector('#df-3adc73a5-52dc-46c6-b2c8-623e5d72ce11');\n",
              "          const dataTable =\n",
              "            await google.colab.kernel.invokeFunction('convertToInteractive',\n",
              "                                                     [key], {});\n",
              "          if (!dataTable) return;\n",
              "\n",
              "          const docLinkHtml = 'Like what you see? Visit the ' +\n",
              "            '<a target=\"_blank\" href=https://colab.research.google.com/notebooks/data_table.ipynb>data table notebook</a>'\n",
              "            + ' to learn more about interactive tables.';\n",
              "          element.innerHTML = '';\n",
              "          dataTable['output_type'] = 'display_data';\n",
              "          await google.colab.output.renderOutput(dataTable, element);\n",
              "          const docLink = document.createElement('div');\n",
              "          docLink.innerHTML = docLinkHtml;\n",
              "          element.appendChild(docLink);\n",
              "        }\n",
              "      </script>\n",
              "    </div>\n",
              "  </div>\n",
              "  "
            ]
          },
          "metadata": {},
          "execution_count": 123
        }
      ]
    },
    {
      "cell_type": "code",
      "source": [
        "from sklearn.preprocessing import StandardScaler\n",
        "\n",
        "sc = StandardScaler()\n",
        "X_train = sc.fit_transform(X_train)\n",
        "X_test = sc.fit_transform(X_test)"
      ],
      "metadata": {
        "id": "3nUHI2hCwYeO"
      },
      "execution_count": 126,
      "outputs": []
    },
    {
      "cell_type": "code",
      "source": [
        "from sklearn.metrics import confusion_matrix\n",
        "from sklearn.metrics import f1_score\n",
        "\n",
        "\n",
        "\n",
        "from sklearn.neighbors import KNeighborsClassifier\n",
        "knn = KNeighborsClassifier(n_neighbors = 5).fit(X_train, y_train)\n",
        " \n",
        "# accuracy on X_test\n",
        "accuracy = knn.score(X_test, y_test)\n",
        "print(accuracy)\n",
        " \n",
        "# creating a confusion matrix\n",
        "knn_predictions = knn.predict(X_test)\n",
        "cm = confusion_matrix(y_test, knn_predictions)\n",
        "print(cm)\n",
        "\n",
        "from sklearn.metrics import f1_score\n",
        "print(f1_score(y_test, knn_predictions,average = 'weighted'))"
      ],
      "metadata": {
        "colab": {
          "base_uri": "https://localhost:8080/"
        },
        "id": "9HW9ZIfIyjwX",
        "outputId": "7e028cab-db33-4ec8-fa88-1d253db5bc0d"
      },
      "execution_count": 128,
      "outputs": [
        {
          "output_type": "stream",
          "name": "stdout",
          "text": [
            "0.7867682056163732\n",
            "[[846 181   3]\n",
            " [126 730   4]\n",
            " [ 79  55  77]]\n",
            "0.7783127705782947\n"
          ]
        }
      ]
    },
    {
      "cell_type": "code",
      "source": [
        "from sklearn.linear_model import LogisticRegression\n",
        "\n",
        "logreg = LogisticRegression(random_state = 123, multi_class ='ovr')\n",
        "model = logreg.fit(X_train, y_train)\n",
        "y_pred = model.predict(X_test)\n",
        "cm2 = confusion_matrix(y_test, y_pred)\n",
        "accuracy2 = model.score(X_test, y_test)\n",
        "print(accuracy2)\n",
        "print(cm2)\n",
        "print(f1_score(y_test, knn_predictions,average = 'weighted'))"
      ],
      "metadata": {
        "id": "ohlmRmBVaGKK",
        "colab": {
          "base_uri": "https://localhost:8080/"
        },
        "outputId": "4d06d2b7-dd17-4bc8-8615-d968565817d1"
      },
      "execution_count": 129,
      "outputs": [
        {
          "output_type": "stream",
          "name": "stdout",
          "text": [
            "0.7020466444550214\n",
            "[[817 213   0]\n",
            " [216 628  16]\n",
            " [102  79  30]]\n",
            "0.7783127705782947\n"
          ]
        }
      ]
    },
    {
      "cell_type": "code",
      "source": [
        "from sklearn.ensemble import RandomForestClassifier\n",
        "\n",
        "rf  = RandomForestClassifier(max_depth=6, random_state = 0)\n",
        "model =rf.fit(X_train, y_train)\n",
        "y_pred2 = model.predict(X_test)\n",
        "cm2 = confusion_matrix(y_test, y_pred2)\n",
        "accuracy3 = model.score(X_test, y_test)\n",
        "print(accuracy3)\n",
        "print(cm2)\n",
        "print(f1_score(y_test, y_pred2,average = 'weighted'))"
      ],
      "metadata": {
        "colab": {
          "base_uri": "https://localhost:8080/"
        },
        "id": "s4NJcaNTbH-f",
        "outputId": "787f815d-8369-48ae-ae64-c3559799a6a5"
      },
      "execution_count": 130,
      "outputs": [
        {
          "output_type": "stream",
          "name": "stdout",
          "text": [
            "0.8043788672060923\n",
            "[[941  86   3]\n",
            " [184 676   0]\n",
            " [103  35  73]]\n",
            "0.7936816921664611\n"
          ]
        }
      ]
    },
    {
      "cell_type": "code",
      "source": [
        "import xgboost as xgb\n",
        "\n",
        "xgb_clas = xgb.XGBClassifier()\n",
        "xgb_clas.fit(X_train, y_train)\n",
        "preds = xgb_clas.predict(X_test)\n",
        "\n",
        "print(confusion_matrix(y_test, preds))\n",
        "print(f1_score(y_test, preds ,average = 'weighted'))"
      ],
      "metadata": {
        "id": "7UqtWd6Bc__u",
        "colab": {
          "base_uri": "https://localhost:8080/"
        },
        "outputId": "a4f38741-8789-465c-a3c9-46825c97734f"
      },
      "execution_count": 145,
      "outputs": [
        {
          "output_type": "stream",
          "name": "stdout",
          "text": [
            "[[917  95  18]\n",
            " [144 705  11]\n",
            " [ 60  23 128]]\n",
            "0.8307887688008586\n"
          ]
        }
      ]
    },
    {
      "cell_type": "code",
      "source": [
        "#hyperparameters for optimization\n",
        "param_grid = {\n",
        "    \"max_depth\": [3, 4, 5, 7],\n",
        "    \"learning_rate\": [0.01],\n",
        "    \"gamma\": [0, 0.1],\n",
        "    \"reg_lambda\": [0, 0.1],\n",
        "    \"scale_pos_weight\": [1, 2],\n",
        "    \"subsample\": [0.8, 0.85],\n",
        "    \"colsample_bytree\": [0.8, 0.85],\n",
        "}\n",
        "\n",
        "'''\n",
        "learning_rate = ['0.01','2']\n",
        "gamma = ['0','0.5']\n",
        "reg_alpha = ['0','1']\n",
        "subsample = ['0.5','0.9']\n",
        "colsample_bytree = ['0.5','0.9']\n",
        "\n",
        "param_grid = {\n",
        "    \"max_depth\": [3, 4, 5, 7],\n",
        "    \"learning_rate\": [0.01, 0.02, 0.04, 0.1, 0.3, 0.6, 1],\n",
        "    \"gamma\": [0, 0.25, 0.5, 0.8, 1],\n",
        "    \"reg_lambda\": [0, 1, 10],\n",
        "    \"scale_pos_weight\": [1, 3, 5],\n",
        "    \"subsample\": [0.6, 0.7, 0.8],\n",
        "    \"colsample_bytree\": [0.5, 0.7, 0.8],\n",
        "}\n",
        "'''"
      ],
      "metadata": {
        "colab": {
          "base_uri": "https://localhost:8080/",
          "height": 72
        },
        "id": "mb7aBe38WLwg",
        "outputId": "60a0153c-aee4-48c5-e373-e2fbfafec90e"
      },
      "execution_count": 163,
      "outputs": [
        {
          "output_type": "execute_result",
          "data": {
            "text/plain": [
              "'\\nlearning_rate = [\\'0.01\\',\\'2\\']\\ngamma = [\\'0\\',\\'0.5\\']\\nreg_alpha = [\\'0\\',\\'1\\']\\nsubsample = [\\'0.5\\',\\'0.9\\']\\ncolsample_bytree = [\\'0.5\\',\\'0.9\\']\\n\\nparam_grid = {\\n    \"max_depth\": [3, 4, 5, 7],\\n    \"learning_rate\": [0.01, 0.02, 0.04, 0.1, 0.3, 0.6, 1],\\n    \"gamma\": [0, 0.25, 0.5, 0.8, 1],\\n    \"reg_lambda\": [0, 1, 10],\\n    \"scale_pos_weight\": [1, 3, 5],\\n    \"subsample\": [0.6, 0.7, 0.8],\\n    \"colsample_bytree\": [0.5, 0.7, 0.8],\\n}\\n'"
            ],
            "application/vnd.google.colaboratory.intrinsic+json": {
              "type": "string"
            }
          },
          "metadata": {},
          "execution_count": 163
        }
      ]
    },
    {
      "cell_type": "code",
      "source": [
        "from sklearn.model_selection import GridSearchCV\n",
        "\n",
        "xgb_2 = xgb.XGBClassifier(objective =\"multi:softmax\", num_classes= 3)\n",
        "xgb_2"
      ],
      "metadata": {
        "colab": {
          "base_uri": "https://localhost:8080/"
        },
        "id": "QYX8GGUgbh1q",
        "outputId": "61eabdd1-9d57-4225-c3a3-4ffc7c7f2c13"
      },
      "execution_count": 164,
      "outputs": [
        {
          "output_type": "execute_result",
          "data": {
            "text/plain": [
              "XGBClassifier(num_classes=3, objective='multi:softmax')"
            ]
          },
          "metadata": {},
          "execution_count": 164
        }
      ]
    },
    {
      "cell_type": "code",
      "source": [
        "grid_cv = GridSearchCV(xgb_2, param_grid, n_jobs = -1, cv = 3, scoring = 'f1_weighted')"
      ],
      "metadata": {
        "id": "X4-vqRXvcFx2"
      },
      "execution_count": 165,
      "outputs": []
    },
    {
      "cell_type": "code",
      "source": [
        "_ = grid_cv.fit(X_train, y_train)"
      ],
      "metadata": {
        "id": "NfpUGc3jeOqO"
      },
      "execution_count": 166,
      "outputs": []
    },
    {
      "cell_type": "code",
      "source": [
        "grid_cv.best_score_"
      ],
      "metadata": {
        "colab": {
          "base_uri": "https://localhost:8080/"
        },
        "id": "uBRAlQfpeS_e",
        "outputId": "c50cf538-19bf-400d-8b16-5b43e5c2fcfd"
      },
      "execution_count": 167,
      "outputs": [
        {
          "output_type": "execute_result",
          "data": {
            "text/plain": [
              "0.8719226442868191"
            ]
          },
          "metadata": {},
          "execution_count": 167
        }
      ]
    },
    {
      "cell_type": "code",
      "source": [
        "grid_cv.best_params_"
      ],
      "metadata": {
        "colab": {
          "base_uri": "https://localhost:8080/"
        },
        "id": "fA5hSMYEeiTz",
        "outputId": "2e727b74-c9c8-4827-c674-d3c0d5602058"
      },
      "execution_count": 168,
      "outputs": [
        {
          "output_type": "execute_result",
          "data": {
            "text/plain": [
              "{'colsample_bytree': 0.8,\n",
              " 'gamma': 0,\n",
              " 'learning_rate': 0.01,\n",
              " 'max_depth': 7,\n",
              " 'reg_lambda': 0,\n",
              " 'scale_pos_weight': 1,\n",
              " 'subsample': 0.8}"
            ]
          },
          "metadata": {},
          "execution_count": 168
        }
      ]
    },
    {
      "cell_type": "code",
      "source": [
        "from sklearn.metrics import classification_report\n",
        "print(classification_report(y_test, preds, digits = 4))"
      ],
      "metadata": {
        "colab": {
          "base_uri": "https://localhost:8080/"
        },
        "id": "2gTn9EU0fZWb",
        "outputId": "4b883ceb-c08c-48f5-e107-2d8eb7f2869b"
      },
      "execution_count": 169,
      "outputs": [
        {
          "output_type": "stream",
          "name": "stdout",
          "text": [
            "              precision    recall  f1-score   support\n",
            "\n",
            "           0     0.8180    0.8903    0.8526      1030\n",
            "           1     0.8566    0.8198    0.8378       860\n",
            "           2     0.8153    0.6066    0.6957       211\n",
            "\n",
            "    accuracy                         0.8329      2101\n",
            "   macro avg     0.8300    0.7722    0.7954      2101\n",
            "weighted avg     0.8335    0.8329    0.8308      2101\n",
            "\n"
          ]
        }
      ]
    },
    {
      "cell_type": "code",
      "source": [
        ""
      ],
      "metadata": {
        "id": "oWZncN71rAxY"
      },
      "execution_count": 169,
      "outputs": []
    }
  ]
}